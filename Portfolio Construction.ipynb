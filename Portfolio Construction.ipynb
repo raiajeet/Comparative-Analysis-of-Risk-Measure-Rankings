{
 "cells": [
  {
   "cell_type": "code",
   "execution_count": 1,
   "id": "b75ff1bf-d6b9-44ea-8daa-46bdcc06c8b5",
   "metadata": {},
   "outputs": [],
   "source": [
    "import yfinance as yf\n",
    "import pandas as pd\n",
    "import numpy as np\n",
    "import requests\n",
    "from bs4 import BeautifulSoup\n",
    "from scipy.stats import spearmanr\n",
    "import pandas as pd\n",
    "import requests\n",
    "from bs4 import BeautifulSoup\n",
    "import dcor\n",
    "import plotly.express as px\n",
    "import matplotlib.pyplot as plt\n",
    "import cvxpy as cp\n",
    "\n",
    "import math\n",
    "\n",
    "import numpy as np\n",
    "import pandas as pd\n",
    "import scipy.stats as scs\n",
    "import scipy.io \n",
    "\n",
    "from matplotlib import pyplot as plt\n",
    "import plotly.express as px\n",
    "import plotly.graph_objects as go\n",
    "import os\n",
    "os.add_dll_directory('C:\\Aorda\\PSG\\lib')\n",
    "import psgpython as psg"
   ]
  },
  {
   "cell_type": "code",
   "execution_count": 2,
   "id": "981d0929-8240-4cb5-9609-726a28a97dee",
   "metadata": {},
   "outputs": [
    {
     "name": "stdout",
     "output_type": "stream",
     "text": [
      "(503, 3)\n"
     ]
    },
    {
     "data": {
      "text/html": [
       "<div>\n",
       "<style scoped>\n",
       "    .dataframe tbody tr th:only-of-type {\n",
       "        vertical-align: middle;\n",
       "    }\n",
       "\n",
       "    .dataframe tbody tr th {\n",
       "        vertical-align: top;\n",
       "    }\n",
       "\n",
       "    .dataframe thead th {\n",
       "        text-align: right;\n",
       "    }\n",
       "</style>\n",
       "<table border=\"1\" class=\"dataframe\">\n",
       "  <thead>\n",
       "    <tr style=\"text-align: right;\">\n",
       "      <th></th>\n",
       "      <th>Symbol</th>\n",
       "      <th>Security</th>\n",
       "      <th>GICS Sector</th>\n",
       "    </tr>\n",
       "  </thead>\n",
       "  <tbody>\n",
       "    <tr>\n",
       "      <th>0</th>\n",
       "      <td>MMM</td>\n",
       "      <td>3M</td>\n",
       "      <td>Industrials</td>\n",
       "    </tr>\n",
       "    <tr>\n",
       "      <th>1</th>\n",
       "      <td>AOS</td>\n",
       "      <td>A. O. Smith</td>\n",
       "      <td>Industrials</td>\n",
       "    </tr>\n",
       "    <tr>\n",
       "      <th>2</th>\n",
       "      <td>ABT</td>\n",
       "      <td>Abbott Laboratories</td>\n",
       "      <td>Health Care</td>\n",
       "    </tr>\n",
       "    <tr>\n",
       "      <th>3</th>\n",
       "      <td>ABBV</td>\n",
       "      <td>AbbVie</td>\n",
       "      <td>Health Care</td>\n",
       "    </tr>\n",
       "    <tr>\n",
       "      <th>4</th>\n",
       "      <td>ACN</td>\n",
       "      <td>Accenture</td>\n",
       "      <td>Information Technology</td>\n",
       "    </tr>\n",
       "  </tbody>\n",
       "</table>\n",
       "</div>"
      ],
      "text/plain": [
       "  Symbol             Security             GICS Sector\n",
       "0    MMM                   3M             Industrials\n",
       "1    AOS          A. O. Smith             Industrials\n",
       "2    ABT  Abbott Laboratories             Health Care\n",
       "3   ABBV               AbbVie             Health Care\n",
       "4    ACN            Accenture  Information Technology"
      ]
     },
     "execution_count": 2,
     "metadata": {},
     "output_type": "execute_result"
    }
   ],
   "source": [
    "tables=pd.read_html(\"https://en.wikipedia.org/wiki/List_of_S%26P_500_companies\")\n",
    "sp500_wiki=tables[0]\n",
    "sp500_wiki=sp500_wiki.iloc[:,:3]\n",
    "print(sp500_wiki.shape)\n",
    "sp500_wiki.head()"
   ]
  },
  {
   "cell_type": "code",
   "execution_count": 3,
   "id": "a98fb530-fb59-4fb5-aff5-b0f0047e3eaf",
   "metadata": {},
   "outputs": [
    {
     "data": {
      "text/plain": [
       "['MMM', 'AOS', 'ABT', 'ABBV', 'ACN', 'ADBE', 'AMD', 'AES', 'AFL', 'A']"
      ]
     },
     "execution_count": 3,
     "metadata": {},
     "output_type": "execute_result"
    }
   ],
   "source": [
    "tickers=sp500_wiki['Symbol'].unique().tolist()\n",
    "tickers[:10]"
   ]
  },
  {
   "cell_type": "code",
   "execution_count": 4,
   "id": "9b02bf05-8442-4274-9aa8-6854baf81f56",
   "metadata": {},
   "outputs": [],
   "source": [
    "tickers = [t.replace('BF.B', 'BF-B').replace('BRK.B', 'BRK-B') for t in tickers]"
   ]
  },
  {
   "cell_type": "code",
   "execution_count": 5,
   "id": "c437401a-fe2f-497d-9b0b-dd05e4e9a8ee",
   "metadata": {},
   "outputs": [
    {
     "name": "stderr",
     "output_type": "stream",
     "text": [
      "[*********************100%***********************]  503 of 503 completed\n",
      "\n",
      "503 Failed downloads:\n",
      "['DRI', 'ANET', 'SNA', 'URI', 'ETR', 'NCLH', 'ADI', 'PFG', 'HLT', 'PLTR', 'MOS', 'CNP', 'AMCR', 'NEM', 'MCD', 'INVH', 'DG', 'JBL', 'SYF', 'IFF', 'FE', 'BBY', 'NRG', 'LOW', 'POOL', 'OTIS', 'CVS', 'AMAT', 'IP', 'LEN', 'ABNB', 'REGN', 'KEY', 'IT', 'AWK', 'AIG', 'MHK', 'CDW', 'SYY', 'MKC', 'CINF', 'JBHT', 'PANW', 'JKHY', 'TXN', 'COP', 'SOLV', 'AVY', 'MAR', 'TRV', 'TECH', 'HST', 'SBAC', 'GM', 'HOLX', 'SPG', 'GE', 'COST', 'VICI', 'AXP', 'UPS', 'WFC', 'PARA', 'IPG', 'FANG', 'JNJ', 'CAT', 'VRSN', 'CHD', 'EA', 'TDY', 'WST', 'CSX', 'NVR', 'PH', 'AVGO', 'MTB', 'MLM', 'ABT', 'TXT', 'AOS', 'HCA', 'PNR', 'WBD', 'ORLY', 'MOH', 'KDP', 'AMGN', 'USB', 'TTWO', 'APO', 'TSCO', 'UNH', 'D', 'KR', 'WSM', 'MS', 'RCL', 'BK', 'ELV', 'MCO', 'NTRS', 'HUBB', 'AMT', 'KVUE', 'BXP', 'LH', 'DHI', 'ENPH', 'FTNT', 'GILD', 'IDXX', 'IR', 'YUM', 'SNPS', 'MSI', 'BG', 'EXE', 'PRU', 'FI', 'CMS', 'HSY', 'SPGI', 'KKR', 'BLDR', 'KMX', 'QCOM', 'AES', 'XYL', 'COF', 'GWW', 'TAP', 'CSGP', 'DASH', 'AFL', 'UHS', 'LIN', 'RSG', 'PAYC', 'SW', 'PEG', 'CVX', 'ROST', 'CPRT', 'VMC', 'NDSN', 'IQV', 'PAYX', 'EG', 'WY', 'MDT', 'BF-B', 'IBM', 'AEP', 'CTVA', 'TMUS', 'PYPL', 'ISRG', 'INTC', 'ADSK', 'FITB', 'FAST', 'ORCL', 'TRGP', 'AON', 'MAA', 'AEE', 'AZO', 'ATO', 'VST', 'ERIE', 'PSA', 'HPQ', 'HUM', 'ICE', 'EMN', 'HRL', 'DOW', 'UBER', 'RVTY', 'GPN', 'STZ', 'COR', 'EQR', 'TT', 'NWSA', 'AMD', 'FOX', 'LKQ', 'LVS', 'VRSK', 'LRCX', 'EMR', 'ADP', 'LHX', 'CTSH', 'DELL', 'DLTR', 'TPL', 'DOC', 'PNW', 'BLK', 'PM', 'AAPL', 'PPL', 'VZ', 'ED', 'GL', 'EBAY', 'HIG', 'SO', 'CHRW', 'EQIX', 'CMCSA', 'NWS', 'RJF', 'BAX', 'EXC', 'SRE', 'CBRE', 'MTCH', 'BX', 'TER', 'VTR', 'TJX', 'HSIC', 'CHTR', 'ESS', 'IVZ', 'PTC', 'LNT', 'KIM', 'HAS', 'NKE', 'CPAY', 'HWM', 'HII', 'NOW', 'WYNN', 'OKE', 'FIS', 'KMI', 'CCI', 'RL', 'TYL', 'MNST', 'PWR', 'WELL', 'NTAP', 'BDX', 'ALL', 'META', 'GEV', 'APTV', 'WMT', 'BSX', 'WAT', 'NVDA', 'WM', 'MET', 'WDC', 'UAL', 'SBUX', 'ZTS', 'CDNS', 'MRK', 'MMC', 'PG', 'WMB', 'CFG', 'DXCM', 'CI', 'BRO', 'APA', 'FCX', 'GRMN', 'BAC', 'SCHW', 'PGR', 'GD', 'ADM', 'NUE', 'ZBRA', 'AIZ', 'KO', 'TMO', 'TFC', 'RMD', 'NFLX', 'DVA', 'BKNG', 'CL', 'REG', 'CRL', 'ROL', 'VLTO', 'WAB', 'LW', 'GNRC', 'TKO', 'MKTX', 'BRK-B', 'ALB', 'GOOG', 'CRM', 'GOOGL', 'BALL', 'ULTA', 'STLD', 'K', 'AJG', 'C', 'EXR', 'HAL', 'BEN', 'GIS', 'PEP', 'CAG', 'MDLZ', 'DAL', 'ARE', 'HES', 'ES', 'L', 'FICO', 'ROK', 'CME', 'DTE', 'ON', 'SHW', 'CTAS', 'DECK', 'TSN', 'GLW', 'JPM', 'KLAC', 'DVN', 'DPZ', 'EFX', 'TPR', 'ITW', 'EQT', 'SMCI', 'PCG', 'AMZN', 'EW', 'DUK', 'CCL', 'HBAN', 'FSLR', 'COO', 'XEL', 'UNP', 'MTD', 'MCHP', 'FOXA', 'EIX', 'CB', 'CSCO', 'RF', 'TEL', 'WEC', 'TRMB', 'TSLA', 'GDDY', 'OMC', 'J', 'JNPR', 'PODD', 'A', 'CNC', 'STX', 'PHM', 'GS', 'ALLE', 'T', 'KEYS', 'AVB', 'APD', 'SLB', 'SJM', 'AXON', 'ZBH', 'FFIV', 'MPC', 'DE', 'STE', 'IRM', 'CLX', 'ADBE', 'LUV', 'VTRS', 'WBA', 'NEE', 'CPT', 'SWK', 'HD', 'SWKS', 'DAY', 'LYB', 'ECL', 'DD', 'SYK', 'DOV', 'NI', 'PLD', 'ALGN', 'BMY', 'O', 'AME', 'MAS', 'CF', 'BIIB', 'RTX', 'FDS', 'BR', 'IEX', 'GEN', 'F', 'GEHC', 'PSX', 'DGX', 'KMB', 'LLY', 'INCY', 'PNC', 'VRTX', 'HON', 'GPC', 'KHC', 'PKG', 'ODFL', 'ACN', 'ROP', 'EL', 'INTU', 'PPG', 'CARR', 'BA', 'WDAY', 'FTV', 'CRWD', 'ANSS', 'BKR', 'DHR', 'MSFT', 'MRNA', 'JCI', 'ETN', 'MPWR', 'EXPE', 'HPE', 'VLO', 'MMM', 'CAH', 'LMT', 'FRT', 'CTRA', 'AKAM', 'APH', 'EOG', 'NXPI', 'CEG', 'MU', 'WTW', 'CBOE', 'TROW', 'DFS', 'MCK', 'EXPD', 'NOC', 'TGT', 'DLR', 'CMI', 'AMP', 'ACGL', 'STT', 'XOM', 'TDG', 'WRB', 'MO', 'MA', 'ABBV', 'FDX', 'NDAQ', 'CZR', 'LYV', 'UDR', 'CMG', 'LULU', 'LII', 'NSC', 'EVRG', 'CPB', 'PFE', 'MSCI', 'DIS', 'PCAR', 'V', 'MGM', 'OXY', 'EPAM', 'LDOS']: YFRateLimitError('Too Many Requests. Rate limited. Try after a while.')\n"
     ]
    },
    {
     "name": "stdout",
     "output_type": "stream",
     "text": [
      "(0, 504)\n"
     ]
    },
    {
     "data": {
      "text/html": [
       "<div>\n",
       "<style scoped>\n",
       "    .dataframe tbody tr th:only-of-type {\n",
       "        vertical-align: middle;\n",
       "    }\n",
       "\n",
       "    .dataframe tbody tr th {\n",
       "        vertical-align: top;\n",
       "    }\n",
       "\n",
       "    .dataframe thead th {\n",
       "        text-align: right;\n",
       "    }\n",
       "</style>\n",
       "<table border=\"1\" class=\"dataframe\">\n",
       "  <thead>\n",
       "    <tr style=\"text-align: right;\">\n",
       "      <th>Ticker</th>\n",
       "      <th>Date</th>\n",
       "      <th>A</th>\n",
       "      <th>AAPL</th>\n",
       "      <th>ABBV</th>\n",
       "      <th>ABNB</th>\n",
       "      <th>ABT</th>\n",
       "      <th>ACGL</th>\n",
       "      <th>ACN</th>\n",
       "      <th>ADBE</th>\n",
       "      <th>ADI</th>\n",
       "      <th>...</th>\n",
       "      <th>WTW</th>\n",
       "      <th>WY</th>\n",
       "      <th>WYNN</th>\n",
       "      <th>XEL</th>\n",
       "      <th>XOM</th>\n",
       "      <th>XYL</th>\n",
       "      <th>YUM</th>\n",
       "      <th>ZBH</th>\n",
       "      <th>ZBRA</th>\n",
       "      <th>ZTS</th>\n",
       "    </tr>\n",
       "  </thead>\n",
       "  <tbody>\n",
       "  </tbody>\n",
       "</table>\n",
       "<p>0 rows × 504 columns</p>\n",
       "</div>"
      ],
      "text/plain": [
       "Empty DataFrame\n",
       "Columns: [Date, A, AAPL, ABBV, ABNB, ABT, ACGL, ACN, ADBE, ADI, ADM, ADP, ADSK, AEE, AEP, AES, AFL, AIG, AIZ, AJG, AKAM, ALB, ALGN, ALL, ALLE, AMAT, AMCR, AMD, AME, AMGN, AMP, AMT, AMZN, ANET, ANSS, AON, AOS, APA, APD, APH, APO, APTV, ARE, ATO, AVB, AVGO, AVY, AWK, AXON, AXP, AZO, BA, BAC, BALL, BAX, BBY, BDX, BEN, BF-B, BG, BIIB, BK, BKNG, BKR, BLDR, BLK, BMY, BR, BRK-B, BRO, BSX, BX, BXP, C, CAG, CAH, CARR, CAT, CB, CBOE, CBRE, CCI, CCL, CDNS, CDW, CEG, CF, CFG, CHD, CHRW, CHTR, CI, CINF, CL, CLX, CMCSA, CME, CMG, CMI, CMS, ...]\n",
       "Index: []\n",
       "\n",
       "[0 rows x 504 columns]"
      ]
     },
     "execution_count": 5,
     "metadata": {},
     "output_type": "execute_result"
    }
   ],
   "source": [
    "start_date=\"2018-01-01\"\n",
    "end_date=\"2024-12-31\"\n",
    "df = yf.download(tickers  ,start=start_date, end=end_date,auto_adjust=False)\n",
    "df= df['Close'].reset_index()\n",
    "print(df.shape)\n",
    "df.head()"
   ]
  },
  {
   "cell_type": "code",
   "execution_count": 6,
   "id": "ba65430f-0d60-4aae-aa3b-14bd8ec14f44",
   "metadata": {},
   "outputs": [
    {
     "data": {
      "text/html": [
       "<div>\n",
       "<style scoped>\n",
       "    .dataframe tbody tr th:only-of-type {\n",
       "        vertical-align: middle;\n",
       "    }\n",
       "\n",
       "    .dataframe tbody tr th {\n",
       "        vertical-align: top;\n",
       "    }\n",
       "\n",
       "    .dataframe thead th {\n",
       "        text-align: right;\n",
       "    }\n",
       "</style>\n",
       "<table border=\"1\" class=\"dataframe\">\n",
       "  <thead>\n",
       "    <tr style=\"text-align: right;\">\n",
       "      <th></th>\n",
       "      <th>Ticker</th>\n",
       "      <th>0</th>\n",
       "    </tr>\n",
       "  </thead>\n",
       "  <tbody>\n",
       "  </tbody>\n",
       "</table>\n",
       "</div>"
      ],
      "text/plain": [
       "Empty DataFrame\n",
       "Columns: [Ticker, 0]\n",
       "Index: []"
      ]
     },
     "execution_count": 6,
     "metadata": {},
     "output_type": "execute_result"
    }
   ],
   "source": [
    "df_low=df.isna().sum().reset_index()\n",
    "df_low=df_low[df_low[0]>0]\n",
    "df_low.head()"
   ]
  },
  {
   "cell_type": "code",
   "execution_count": 7,
   "id": "7ecd7498-43ac-43f9-ab6d-fb9c21921f32",
   "metadata": {},
   "outputs": [
    {
     "data": {
      "text/plain": [
       "array([], dtype=object)"
      ]
     },
     "execution_count": 7,
     "metadata": {},
     "output_type": "execute_result"
    }
   ],
   "source": [
    "df_low['Ticker'].unique()"
   ]
  },
  {
   "cell_type": "code",
   "execution_count": 8,
   "id": "e8998b2d-ddc7-4985-8eef-9955321e24cc",
   "metadata": {},
   "outputs": [
    {
     "name": "stdout",
     "output_type": "stream",
     "text": [
      "(0, 504)\n"
     ]
    },
    {
     "data": {
      "text/html": [
       "<div>\n",
       "<style scoped>\n",
       "    .dataframe tbody tr th:only-of-type {\n",
       "        vertical-align: middle;\n",
       "    }\n",
       "\n",
       "    .dataframe tbody tr th {\n",
       "        vertical-align: top;\n",
       "    }\n",
       "\n",
       "    .dataframe thead th {\n",
       "        text-align: right;\n",
       "    }\n",
       "</style>\n",
       "<table border=\"1\" class=\"dataframe\">\n",
       "  <thead>\n",
       "    <tr style=\"text-align: right;\">\n",
       "      <th>Ticker</th>\n",
       "      <th>Date</th>\n",
       "      <th>A</th>\n",
       "      <th>AAPL</th>\n",
       "      <th>ABBV</th>\n",
       "      <th>ABNB</th>\n",
       "      <th>ABT</th>\n",
       "      <th>ACGL</th>\n",
       "      <th>ACN</th>\n",
       "      <th>ADBE</th>\n",
       "      <th>ADI</th>\n",
       "      <th>...</th>\n",
       "      <th>WTW</th>\n",
       "      <th>WY</th>\n",
       "      <th>WYNN</th>\n",
       "      <th>XEL</th>\n",
       "      <th>XOM</th>\n",
       "      <th>XYL</th>\n",
       "      <th>YUM</th>\n",
       "      <th>ZBH</th>\n",
       "      <th>ZBRA</th>\n",
       "      <th>ZTS</th>\n",
       "    </tr>\n",
       "  </thead>\n",
       "  <tbody>\n",
       "  </tbody>\n",
       "</table>\n",
       "<p>0 rows × 504 columns</p>\n",
       "</div>"
      ],
      "text/plain": [
       "Empty DataFrame\n",
       "Columns: [Date, A, AAPL, ABBV, ABNB, ABT, ACGL, ACN, ADBE, ADI, ADM, ADP, ADSK, AEE, AEP, AES, AFL, AIG, AIZ, AJG, AKAM, ALB, ALGN, ALL, ALLE, AMAT, AMCR, AMD, AME, AMGN, AMP, AMT, AMZN, ANET, ANSS, AON, AOS, APA, APD, APH, APO, APTV, ARE, ATO, AVB, AVGO, AVY, AWK, AXON, AXP, AZO, BA, BAC, BALL, BAX, BBY, BDX, BEN, BF-B, BG, BIIB, BK, BKNG, BKR, BLDR, BLK, BMY, BR, BRK-B, BRO, BSX, BX, BXP, C, CAG, CAH, CARR, CAT, CB, CBOE, CBRE, CCI, CCL, CDNS, CDW, CEG, CF, CFG, CHD, CHRW, CHTR, CI, CINF, CL, CLX, CMCSA, CME, CMG, CMI, CMS, ...]\n",
       "Index: []\n",
       "\n",
       "[0 rows x 504 columns]"
      ]
     },
     "execution_count": 8,
     "metadata": {},
     "output_type": "execute_result"
    }
   ],
   "source": [
    "df = df.drop(columns=df_low['Ticker'].unique())\n",
    "print(df.shape)\n",
    "df.head()"
   ]
  },
  {
   "cell_type": "code",
   "execution_count": 9,
   "id": "5219ec28-8741-4df7-bc88-b303f268ef99",
   "metadata": {},
   "outputs": [
    {
     "name": "stdout",
     "output_type": "stream",
     "text": [
      "YF.download() has changed argument auto_adjust default to True\n"
     ]
    },
    {
     "name": "stderr",
     "output_type": "stream",
     "text": [
      "[*********************100%***********************]  1 of 1 completed\n",
      "\n",
      "1 Failed download:\n",
      "['^GSPC']: YFRateLimitError('Too Many Requests. Rate limited. Try after a while.')\n"
     ]
    },
    {
     "name": "stdout",
     "output_type": "stream",
     "text": [
      "(0, 505)\n"
     ]
    },
    {
     "data": {
      "text/html": [
       "<div>\n",
       "<style scoped>\n",
       "    .dataframe tbody tr th:only-of-type {\n",
       "        vertical-align: middle;\n",
       "    }\n",
       "\n",
       "    .dataframe tbody tr th {\n",
       "        vertical-align: top;\n",
       "    }\n",
       "\n",
       "    .dataframe thead th {\n",
       "        text-align: right;\n",
       "    }\n",
       "</style>\n",
       "<table border=\"1\" class=\"dataframe\">\n",
       "  <thead>\n",
       "    <tr style=\"text-align: right;\">\n",
       "      <th>Ticker</th>\n",
       "      <th>A</th>\n",
       "      <th>AAPL</th>\n",
       "      <th>ABBV</th>\n",
       "      <th>ABNB</th>\n",
       "      <th>ABT</th>\n",
       "      <th>ACGL</th>\n",
       "      <th>ACN</th>\n",
       "      <th>ADBE</th>\n",
       "      <th>ADI</th>\n",
       "      <th>ADM</th>\n",
       "      <th>...</th>\n",
       "      <th>WYNN</th>\n",
       "      <th>XEL</th>\n",
       "      <th>XOM</th>\n",
       "      <th>XYL</th>\n",
       "      <th>YUM</th>\n",
       "      <th>ZBH</th>\n",
       "      <th>ZBRA</th>\n",
       "      <th>ZTS</th>\n",
       "      <th>Date</th>\n",
       "      <th>^GSPC</th>\n",
       "    </tr>\n",
       "  </thead>\n",
       "  <tbody>\n",
       "  </tbody>\n",
       "</table>\n",
       "<p>0 rows × 505 columns</p>\n",
       "</div>"
      ],
      "text/plain": [
       "Empty DataFrame\n",
       "Columns: [A, AAPL, ABBV, ABNB, ABT, ACGL, ACN, ADBE, ADI, ADM, ADP, ADSK, AEE, AEP, AES, AFL, AIG, AIZ, AJG, AKAM, ALB, ALGN, ALL, ALLE, AMAT, AMCR, AMD, AME, AMGN, AMP, AMT, AMZN, ANET, ANSS, AON, AOS, APA, APD, APH, APO, APTV, ARE, ATO, AVB, AVGO, AVY, AWK, AXON, AXP, AZO, BA, BAC, BALL, BAX, BBY, BDX, BEN, BF-B, BG, BIIB, BK, BKNG, BKR, BLDR, BLK, BMY, BR, BRK-B, BRO, BSX, BX, BXP, C, CAG, CAH, CARR, CAT, CB, CBOE, CBRE, CCI, CCL, CDNS, CDW, CEG, CF, CFG, CHD, CHRW, CHTR, CI, CINF, CL, CLX, CMCSA, CME, CMG, CMI, CMS, CNC, ...]\n",
       "Index: []\n",
       "\n",
       "[0 rows x 505 columns]"
      ]
     },
     "execution_count": 9,
     "metadata": {},
     "output_type": "execute_result"
    }
   ],
   "source": [
    "sp500 = yf.download('^GSPC', start=start_date, end=end_date)\n",
    "sp500= sp500['Close'].reset_index()\n",
    "df=df.merge(sp500, how='inner')\n",
    "print(df.shape)\n",
    "df.head()"
   ]
  },
  {
   "cell_type": "code",
   "execution_count": 10,
   "id": "afffdb4c-dbf9-475a-99a6-623948c711e7",
   "metadata": {},
   "outputs": [
    {
     "data": {
      "text/html": [
       "<div>\n",
       "<style scoped>\n",
       "    .dataframe tbody tr th:only-of-type {\n",
       "        vertical-align: middle;\n",
       "    }\n",
       "\n",
       "    .dataframe tbody tr th {\n",
       "        vertical-align: top;\n",
       "    }\n",
       "\n",
       "    .dataframe thead th {\n",
       "        text-align: right;\n",
       "    }\n",
       "</style>\n",
       "<table border=\"1\" class=\"dataframe\">\n",
       "  <thead>\n",
       "    <tr style=\"text-align: right;\">\n",
       "      <th>Ticker</th>\n",
       "      <th>A</th>\n",
       "      <th>AAPL</th>\n",
       "      <th>ABBV</th>\n",
       "      <th>ABNB</th>\n",
       "      <th>ABT</th>\n",
       "      <th>ACGL</th>\n",
       "      <th>ACN</th>\n",
       "      <th>ADBE</th>\n",
       "      <th>ADI</th>\n",
       "      <th>ADM</th>\n",
       "      <th>...</th>\n",
       "      <th>WYNN</th>\n",
       "      <th>XEL</th>\n",
       "      <th>XOM</th>\n",
       "      <th>XYL</th>\n",
       "      <th>YUM</th>\n",
       "      <th>ZBH</th>\n",
       "      <th>ZBRA</th>\n",
       "      <th>ZTS</th>\n",
       "      <th>Date</th>\n",
       "      <th>^GSPC</th>\n",
       "    </tr>\n",
       "  </thead>\n",
       "  <tbody>\n",
       "  </tbody>\n",
       "</table>\n",
       "<p>0 rows × 505 columns</p>\n",
       "</div>"
      ],
      "text/plain": [
       "Empty DataFrame\n",
       "Columns: [A, AAPL, ABBV, ABNB, ABT, ACGL, ACN, ADBE, ADI, ADM, ADP, ADSK, AEE, AEP, AES, AFL, AIG, AIZ, AJG, AKAM, ALB, ALGN, ALL, ALLE, AMAT, AMCR, AMD, AME, AMGN, AMP, AMT, AMZN, ANET, ANSS, AON, AOS, APA, APD, APH, APO, APTV, ARE, ATO, AVB, AVGO, AVY, AWK, AXON, AXP, AZO, BA, BAC, BALL, BAX, BBY, BDX, BEN, BF-B, BG, BIIB, BK, BKNG, BKR, BLDR, BLK, BMY, BR, BRK-B, BRO, BSX, BX, BXP, C, CAG, CAH, CARR, CAT, CB, CBOE, CBRE, CCI, CCL, CDNS, CDW, CEG, CF, CFG, CHD, CHRW, CHTR, CI, CINF, CL, CLX, CMCSA, CME, CMG, CMI, CMS, CNC, ...]\n",
       "Index: []\n",
       "\n",
       "[0 rows x 505 columns]"
      ]
     },
     "execution_count": 10,
     "metadata": {},
     "output_type": "execute_result"
    }
   ],
   "source": [
    "df=df[(df['Date']<'2019-12-31')]\n",
    "df.head()"
   ]
  },
  {
   "cell_type": "code",
   "execution_count": 11,
   "id": "36f528bc-0b36-49a6-934d-9243de6b4570",
   "metadata": {},
   "outputs": [
    {
     "name": "stdout",
     "output_type": "stream",
     "text": [
      "(0, 504)\n"
     ]
    },
    {
     "data": {
      "text/html": [
       "<div>\n",
       "<style scoped>\n",
       "    .dataframe tbody tr th:only-of-type {\n",
       "        vertical-align: middle;\n",
       "    }\n",
       "\n",
       "    .dataframe tbody tr th {\n",
       "        vertical-align: top;\n",
       "    }\n",
       "\n",
       "    .dataframe thead th {\n",
       "        text-align: right;\n",
       "    }\n",
       "</style>\n",
       "<table border=\"1\" class=\"dataframe\">\n",
       "  <thead>\n",
       "    <tr style=\"text-align: right;\">\n",
       "      <th>Ticker</th>\n",
       "      <th>A</th>\n",
       "      <th>AAPL</th>\n",
       "      <th>ABBV</th>\n",
       "      <th>ABNB</th>\n",
       "      <th>ABT</th>\n",
       "      <th>ACGL</th>\n",
       "      <th>ACN</th>\n",
       "      <th>ADBE</th>\n",
       "      <th>ADI</th>\n",
       "      <th>ADM</th>\n",
       "      <th>...</th>\n",
       "      <th>WY</th>\n",
       "      <th>WYNN</th>\n",
       "      <th>XEL</th>\n",
       "      <th>XOM</th>\n",
       "      <th>XYL</th>\n",
       "      <th>YUM</th>\n",
       "      <th>ZBH</th>\n",
       "      <th>ZBRA</th>\n",
       "      <th>ZTS</th>\n",
       "      <th>^GSPC</th>\n",
       "    </tr>\n",
       "  </thead>\n",
       "  <tbody>\n",
       "  </tbody>\n",
       "</table>\n",
       "<p>0 rows × 504 columns</p>\n",
       "</div>"
      ],
      "text/plain": [
       "Empty DataFrame\n",
       "Columns: [A, AAPL, ABBV, ABNB, ABT, ACGL, ACN, ADBE, ADI, ADM, ADP, ADSK, AEE, AEP, AES, AFL, AIG, AIZ, AJG, AKAM, ALB, ALGN, ALL, ALLE, AMAT, AMCR, AMD, AME, AMGN, AMP, AMT, AMZN, ANET, ANSS, AON, AOS, APA, APD, APH, APO, APTV, ARE, ATO, AVB, AVGO, AVY, AWK, AXON, AXP, AZO, BA, BAC, BALL, BAX, BBY, BDX, BEN, BF-B, BG, BIIB, BK, BKNG, BKR, BLDR, BLK, BMY, BR, BRK-B, BRO, BSX, BX, BXP, C, CAG, CAH, CARR, CAT, CB, CBOE, CBRE, CCI, CCL, CDNS, CDW, CEG, CF, CFG, CHD, CHRW, CHTR, CI, CINF, CL, CLX, CMCSA, CME, CMG, CMI, CMS, CNC, ...]\n",
       "Index: []\n",
       "\n",
       "[0 rows x 504 columns]"
      ]
     },
     "execution_count": 11,
     "metadata": {},
     "output_type": "execute_result"
    }
   ],
   "source": [
    "df.drop(columns=['Date'],axis=1,inplace=True)\n",
    "#df.set_index('Date', inplace=True)\n",
    "\n",
    "df_returns = np.log(df / df.shift(1))\n",
    "\n",
    "df_returns = df_returns.dropna()\n",
    "\n",
    "#df_returns.reset_index(inplace=True)\n",
    "\n",
    "print(df_returns.shape)\n",
    "df_returns.head()"
   ]
  },
  {
   "cell_type": "code",
   "execution_count": 12,
   "id": "e5f81030-7808-44cd-bb6c-1e4a14996ff0",
   "metadata": {},
   "outputs": [],
   "source": [
    "def min_cvar(df):\n",
    "    header=df.columns.tolist()\n",
    "    matrix_scenarios = [header, df.values]\n",
    "    point_lower = [header, np.zeros(len(df.columns.tolist()))]\n",
    "    matrix_budget =[header, np.ones(len(df.columns.tolist()))]\n",
    "\n",
    "\n",
    "    allowExternal = True\n",
    "    suppressMessages = False\n",
    "    problem_name = \"problem_min_var\"\n",
    "    problem_statement = \"minimize\\n\\\n",
    "    cvar_risk(0.99, matrix_scenarios)\\n\\\n",
    "    Constraint: == 1\\n\\\n",
    "    linear(matrix_budget)\\n\\\n",
    "    Box: >= 0\\n\\\n",
    "    \"\n",
    "    problem_dictionary = {'problem_name':problem_name, 'problem_statement':problem_statement,\n",
    "                          'matrix_budget':matrix_budget, \n",
    "                          'matrix_cov':matrix_scenarios,\n",
    "                          'point_lower':point_lower}\n",
    "    \n",
    "    res_noshorts = psg.psg_solver(problem_dictionary, allowExternal, suppressMessages)\n",
    "    res=res_noshorts['point_problem_1']\n",
    "    return res"
   ]
  },
  {
   "cell_type": "code",
   "execution_count": 13,
   "id": "8a67c555-363c-4b2c-8700-2a7fad6a9366",
   "metadata": {},
   "outputs": [
    {
     "ename": "SystemError",
     "evalue": "<built-in function psg_solver> returned a result with an exception set",
     "output_type": "error",
     "traceback": [
      "\u001b[1;31m---------------------------------------------------------------------------\u001b[0m",
      "\u001b[1;31mRuntimeError\u001b[0m                              Traceback (most recent call last)",
      "\u001b[1;31mRuntimeError\u001b[0m: Problem cannot be solved\n",
      "\nThe above exception was the direct cause of the following exception:\n",
      "\u001b[1;31mSystemError\u001b[0m                               Traceback (most recent call last)",
      "Cell \u001b[1;32mIn[13], line 1\u001b[0m\n\u001b[1;32m----> 1\u001b[0m w\u001b[38;5;241m=\u001b[39mmin_cvar(df_returns)\n",
      "Cell \u001b[1;32mIn[12], line 22\u001b[0m, in \u001b[0;36mmin_cvar\u001b[1;34m(df)\u001b[0m\n\u001b[0;32m     11\u001b[0m problem_statement \u001b[38;5;241m=\u001b[39m \u001b[38;5;124m\"\u001b[39m\u001b[38;5;124mminimize\u001b[39m\u001b[38;5;130;01m\\n\u001b[39;00m\u001b[38;5;130;01m\\\u001b[39;00m\n\u001b[0;32m     12\u001b[0m \u001b[38;5;124mcvar_risk(0.99, matrix_scenarios)\u001b[39m\u001b[38;5;130;01m\\n\u001b[39;00m\u001b[38;5;130;01m\\\u001b[39;00m\n\u001b[0;32m     13\u001b[0m \u001b[38;5;124mConstraint: == 1\u001b[39m\u001b[38;5;130;01m\\n\u001b[39;00m\u001b[38;5;130;01m\\\u001b[39;00m\n\u001b[0;32m     14\u001b[0m \u001b[38;5;124mlinear(matrix_budget)\u001b[39m\u001b[38;5;130;01m\\n\u001b[39;00m\u001b[38;5;130;01m\\\u001b[39;00m\n\u001b[0;32m     15\u001b[0m \u001b[38;5;124mBox: >= 0\u001b[39m\u001b[38;5;130;01m\\n\u001b[39;00m\u001b[38;5;130;01m\\\u001b[39;00m\n\u001b[0;32m     16\u001b[0m \u001b[38;5;124m\u001b[39m\u001b[38;5;124m\"\u001b[39m\n\u001b[0;32m     17\u001b[0m problem_dictionary \u001b[38;5;241m=\u001b[39m {\u001b[38;5;124m'\u001b[39m\u001b[38;5;124mproblem_name\u001b[39m\u001b[38;5;124m'\u001b[39m:problem_name, \u001b[38;5;124m'\u001b[39m\u001b[38;5;124mproblem_statement\u001b[39m\u001b[38;5;124m'\u001b[39m:problem_statement,\n\u001b[0;32m     18\u001b[0m                       \u001b[38;5;124m'\u001b[39m\u001b[38;5;124mmatrix_budget\u001b[39m\u001b[38;5;124m'\u001b[39m:matrix_budget, \n\u001b[0;32m     19\u001b[0m                       \u001b[38;5;124m'\u001b[39m\u001b[38;5;124mmatrix_cov\u001b[39m\u001b[38;5;124m'\u001b[39m:matrix_scenarios,\n\u001b[0;32m     20\u001b[0m                       \u001b[38;5;124m'\u001b[39m\u001b[38;5;124mpoint_lower\u001b[39m\u001b[38;5;124m'\u001b[39m:point_lower}\n\u001b[1;32m---> 22\u001b[0m res_noshorts \u001b[38;5;241m=\u001b[39m psg\u001b[38;5;241m.\u001b[39mpsg_solver(problem_dictionary, allowExternal, suppressMessages)\n\u001b[0;32m     23\u001b[0m res\u001b[38;5;241m=\u001b[39mres_noshorts[\u001b[38;5;124m'\u001b[39m\u001b[38;5;124mpoint_problem_1\u001b[39m\u001b[38;5;124m'\u001b[39m]\n\u001b[0;32m     24\u001b[0m \u001b[38;5;28;01mreturn\u001b[39;00m res\n",
      "\u001b[1;31mSystemError\u001b[0m: <built-in function psg_solver> returned a result with an exception set"
     ]
    }
   ],
   "source": [
    "w=min_cvar(df_returns)"
   ]
  },
  {
   "cell_type": "code",
   "execution_count": null,
   "id": "2c312726-ed5b-4dd6-9a7f-664d862eccd5",
   "metadata": {},
   "outputs": [],
   "source": [
    "weights = pd.DataFrame({'Stocks': w[0],'Weights': w[1]})\n",
    "weights['Stocks']=weights['Stocks'].str.upper()\n",
    "weights.head()"
   ]
  },
  {
   "cell_type": "code",
   "execution_count": null,
   "id": "0f24f94b-d255-4cea-b51e-eb66b207739a",
   "metadata": {},
   "outputs": [],
   "source": [
    "pos_weights=weights[weights['Weights']>0]\n",
    "pos_weights.sort_values(by='Weights',inplace=True,ascending=False)\n",
    "pos_weights.head()"
   ]
  },
  {
   "cell_type": "code",
   "execution_count": null,
   "id": "2745ff2a-8f2c-462e-b635-bda36c9f83a5",
   "metadata": {},
   "outputs": [],
   "source": [
    "top=pos_weights.head(10)\n",
    "bottom=pos_weights.tail(10)\n",
    "bottom"
   ]
  },
  {
   "cell_type": "code",
   "execution_count": null,
   "id": "c2865d9a-422c-4ce7-9b62-69ad464adf70",
   "metadata": {},
   "outputs": [],
   "source": [
    "top"
   ]
  },
  {
   "cell_type": "code",
   "execution_count": null,
   "id": "dc58b8c9-d2f7-4210-846b-b1e8cf1493d4",
   "metadata": {},
   "outputs": [],
   "source": [
    "def compute_risk_measures(returns_series,index_returns,THRESHOLD_Q,Q_LEVEL):\n",
    "    cum_ret = returns_series.cumsum()\n",
    "    drawdowns = cum_ret.expanding().max() - cum_ret\n",
    "\n",
    "    edor = np.mean(np.maximum(drawdowns - THRESHOLD_Q, 0))\n",
    "\n",
    "    cdar = np.mean(np.sort(drawdowns)[-int(Q_LEVEL * len(drawdowns)):])\n",
    "    \n",
    "    cvar_threshold = np.quantile(returns_series, 1-Q_LEVEL)\n",
    "    cvar = -returns_series[returns_series <= cvar_threshold].mean()\n",
    "\n",
    "    lpm1 = np.mean(np.maximum(0 - returns_series, 0))\n",
    "    lpm2 = np.mean(np.maximum(0 - returns_series, 0) ** 2)\n",
    "    lpm3 = np.mean(np.maximum(0 - returns_series, 0) ** 3)\n",
    "    lpm4 = np.mean(np.maximum(0 - returns_series, 0) ** 4)\n",
    "\n",
    "    max_drawdown = drawdowns.max()\n",
    "    var = np.quantile(returns_series, 1-Q_LEVEL)\n",
    "    volatility = returns_series.std() * np.sqrt(252)\n",
    "\n",
    "    mask = index_returns < 0\n",
    "    index_down = index_returns[mask]\n",
    "    stock_down = returns_series[mask]\n",
    "    combined = pd.concat([stock_down, index_down], axis=1).dropna()\n",
    "    cov = np.cov(combined.iloc[:, 0], combined.iloc[:, 1])[0, 1]\n",
    "    varr = np.var(combined.iloc[:, 1])\n",
    "    downside_beta=cov / varr\n",
    "\n",
    "    return [edor, cdar, cvar, lpm1, lpm2, lpm3, lpm4, max_drawdown, var ,volatility, downside_beta ]\n"
   ]
  },
  {
   "cell_type": "code",
   "execution_count": null,
   "id": "290c08b4-efab-4074-89cf-3f0e86482250",
   "metadata": {},
   "outputs": [],
   "source": [
    "def risk_matrix(df,THRESHOLD_Q, Q_LEVEL):\n",
    "    stocks=list(df.columns)\n",
    "    stocks.remove('^GSPC')\n",
    "    new_df = pd.DataFrame(\n",
    "    {ticker: compute_risk_measures(df[ticker],df['^GSPC'],THRESHOLD_Q,Q_LEVEL) for ticker in stocks}).T\n",
    "\n",
    "    new_df.columns = [\"EDoR\", \"CDaR\", \"CVaR\", \"LPM1\", \"LPM2\", \"LPM3\", \"LPM4\", \"Max Drawdown\",\"VaR\",\"Volatility\",\"Downside Beta\"]\n",
    "\n",
    "\n",
    "    return  new_df"
   ]
  },
  {
   "cell_type": "code",
   "execution_count": null,
   "id": "fae94cfd-8218-4c32-8e19-77a6b615985e",
   "metadata": {},
   "outputs": [],
   "source": [
    "THRESHOLD_Q = 0.4  \n",
    "Q_LEVEL = 0.05\n",
    "\n",
    "risk_matrix_all=risk_matrix(df_returns,THRESHOLD_Q, Q_LEVEL)\n",
    "rank=risk_matrix_all.rank()\n",
    "rank=rank.reset_index()\n",
    "rank"
   ]
  },
  {
   "cell_type": "code",
   "execution_count": null,
   "id": "87ab2b89-c1e5-411c-99a0-f9217c464638",
   "metadata": {},
   "outputs": [],
   "source": [
    "top1=top.merge(rank,how='inner',left_on='Stocks',right_on='index')\n",
    "bottom1=bottom.merge(rank,how='inner',left_on='Stocks',right_on='index')\n",
    "\n",
    "top1['label']='Top'\n",
    "bottom1['label']='Bottom'\n",
    "df_final=pd.concat([top1,bottom1],axis=0)\n",
    "df_final.drop(columns='index',inplace=True)\n",
    "df_final"
   ]
  },
  {
   "cell_type": "code",
   "execution_count": null,
   "id": "837f3c0d-96dc-40da-aa2d-f58d290f9a8a",
   "metadata": {},
   "outputs": [],
   "source": [
    "import pandas as pd\n",
    "import seaborn as sns\n",
    "import matplotlib.pyplot as plt\n",
    "\n",
    "df_sorted = df_final.sort_values(by='Weights', ascending=False)\n",
    "\n",
    "top10 = df_sorted[df_sorted['label'] == 'Top']\n",
    "bottom10 = df_sorted[df_sorted['label'] == 'Bottom']\n",
    "\n",
    "sns.set(style=\"whitegrid\")\n",
    "\n",
    "fig, axes = plt.subplots(2, 2, figsize=(18, 10))\n",
    "\n",
    "sns.barplot(data=top1, x='Stocks', y='Max Drawdown', ax=axes[0, 0],color='green')\n",
    "axes[0, 0].set_title('Max Drawdown - Top')\n",
    "axes[0, 0].tick_params(axis='x', rotation=90)\n",
    "\n",
    "sns.barplot(data=bottom1, x='Stocks', y='Max Drawdown', ax=axes[0, 1],color='red')\n",
    "axes[0, 1].set_title('Max Drawdown - Bottom')\n",
    "axes[0, 1].tick_params(axis='x', rotation=90)\n",
    "\n",
    "sns.barplot(data=top1, x='Stocks', y='Volatility', ax=axes[1, 0],color='green')\n",
    "axes[1, 0].set_title('Volatility - Top')\n",
    "axes[1, 0].tick_params(axis='x', rotation=90)\n",
    "\n",
    "sns.barplot(data=bottom1, x='Stocks', y='Volatility', ax=axes[1, 1],color='red')\n",
    "axes[1, 1].set_title('Volatility - Bottom')\n",
    "axes[1, 1].tick_params(axis='x', rotation=90)\n",
    "\n",
    "axes[0, 0].axhline(y=250, color='black', linestyle='--')\n",
    "axes[0, 1].axhline(y=250, color='black', linestyle='--')\n",
    "axes[1, 0].axhline(y=250, color='black', linestyle='--')\n",
    "axes[1, 1].axhline(y=250, color='black', linestyle='--')\n",
    "\n",
    "\n",
    "plt.tight_layout()\n",
    "plt.show()\n"
   ]
  },
  {
   "cell_type": "code",
   "execution_count": null,
   "id": "4bc81794-53aa-4db7-ac57-5a4d606179cc",
   "metadata": {},
   "outputs": [],
   "source": [
    "rank"
   ]
  },
  {
   "cell_type": "code",
   "execution_count": null,
   "id": "cedcc4c6-fb27-4f1d-aa7b-7c2807369264",
   "metadata": {},
   "outputs": [],
   "source": [
    "df_ranked = rank.rename(columns={'index': 'Stocks'})\n",
    "\n",
    "risk_weights = {'EDoR': 0.0,'CVaR': 0.2,'Max Drawdown': 0.2,'Volatility': 0.15,'LPM1': 0.05,'LPM2': 0.1,'LPM3': 0.1,\n",
    "    'LPM4': 0.15,'Downside Beta': 0.05}\n",
    "\n",
    "weighted_risks = df_ranked[list(risk_weights.keys())].mul(pd.Series(risk_weights), axis=1)\n",
    "df_ranked['Composite_Risk_Score'] = weighted_risks.sum(axis=1)\n",
    "df_ranked"
   ]
  },
  {
   "cell_type": "code",
   "execution_count": null,
   "id": "2412732a-e211-429d-b000-8119d876a150",
   "metadata": {},
   "outputs": [],
   "source": [
    "top"
   ]
  },
  {
   "cell_type": "code",
   "execution_count": null,
   "id": "3540c817-d090-4b88-8a2a-554f182264d1",
   "metadata": {},
   "outputs": [],
   "source": [
    "newtop=top.merge(df_ranked,how='inner',left_on='Stocks',right_on='Stocks')\n",
    "newbottom=bottom.merge(df_ranked,how='inner',left_on='Stocks',right_on='Stocks')\n",
    "\n",
    "newtop['label']='Top'\n",
    "newbottom['label']='Bottom'\n",
    "df_final=pd.concat([newtop,newbottom],axis=0)\n",
    "#df_final.drop(columns='index',inplace=True)\n",
    "df_final"
   ]
  },
  {
   "cell_type": "code",
   "execution_count": null,
   "id": "c1360f2a-3b72-4f2e-a424-a12110c2ce28",
   "metadata": {},
   "outputs": [],
   "source": [
    "newtop"
   ]
  },
  {
   "cell_type": "code",
   "execution_count": null,
   "id": "297f8c5d-a202-4d37-bf72-50ed0b27fa12",
   "metadata": {},
   "outputs": [],
   "source": [
    "import pandas as pd\n",
    "import seaborn as sns\n",
    "import matplotlib.pyplot as plt\n",
    "\n",
    "df_sorted = df_final.sort_values(by='Weights', ascending=False)\n",
    "\n",
    "top10 = df_sorted[df_sorted['label'] == 'Top']\n",
    "bottom10 = df_sorted[df_sorted['label'] == 'Bottom']\n",
    "\n",
    "sns.set(style=\"whitegrid\")\n",
    "\n",
    "fig, axes = plt.subplots(1, 2, figsize=(18, 6))\n",
    "\n",
    "sns.barplot(data=newtop, x='Stocks', y='Composite_Risk_Score', ax=axes[0], color='green')\n",
    "axes[0].set_title('Composite Risk Score - Top')\n",
    "axes[0].tick_params(axis='x', rotation=90)\n",
    "axes[0].axhline(y=250, color='black', linestyle='--')\n",
    "\n",
    "sns.barplot(data=newbottom, x='Stocks', y='Composite_Risk_Score', ax=axes[1], color='red')\n",
    "axes[1].set_title('Composite Risk Score - Bottom')\n",
    "axes[1].tick_params(axis='x', rotation=90)\n",
    "axes[1].axhline(y=250, color='black', linestyle='--')\n",
    "\n",
    "plt.tight_layout()\n",
    "plt.show()\n"
   ]
  },
  {
   "cell_type": "code",
   "execution_count": null,
   "id": "3d096478-af2a-46ef-847d-5c1da2aa40e3",
   "metadata": {},
   "outputs": [],
   "source": []
  },
  {
   "cell_type": "code",
   "execution_count": null,
   "id": "edede94d-85dc-48c6-bb51-0542d601c8f2",
   "metadata": {},
   "outputs": [],
   "source": []
  },
  {
   "cell_type": "code",
   "execution_count": null,
   "id": "2ad93b48-0748-455b-99bb-8314fb9cf1ab",
   "metadata": {},
   "outputs": [],
   "source": []
  },
  {
   "cell_type": "code",
   "execution_count": null,
   "id": "f53c0256-0beb-4918-87cf-52a74b57e782",
   "metadata": {},
   "outputs": [],
   "source": []
  },
  {
   "cell_type": "code",
   "execution_count": null,
   "id": "db702e41-0bd2-4f64-8a3a-7a0169afb310",
   "metadata": {},
   "outputs": [],
   "source": []
  }
 ],
 "metadata": {
  "kernelspec": {
   "display_name": "Python 3 (ipykernel)",
   "language": "python",
   "name": "python3"
  },
  "language_info": {
   "codemirror_mode": {
    "name": "ipython",
    "version": 3
   },
   "file_extension": ".py",
   "mimetype": "text/x-python",
   "name": "python",
   "nbconvert_exporter": "python",
   "pygments_lexer": "ipython3",
   "version": "3.11.7"
  }
 },
 "nbformat": 4,
 "nbformat_minor": 5
}
