{
 "cells": [
  {
   "cell_type": "code",
   "execution_count": 1,
   "id": "e74ba66e-370f-4686-b627-6be515f3e2f8",
   "metadata": {},
   "outputs": [],
   "source": [
    "import yfinance as yf\n",
    "import pandas as pd\n",
    "import numpy as np\n",
    "import requests\n",
    "from bs4 import BeautifulSoup\n",
    "from scipy.stats import spearmanr\n",
    "import pandas as pd\n",
    "import requests\n",
    "from bs4 import BeautifulSoup\n",
    "import dcor\n",
    "import plotly.express as px\n",
    "import matplotlib.pyplot as plt\n"
   ]
  },
  {
   "cell_type": "code",
   "execution_count": 2,
   "id": "136cc1c1-5d4f-40ed-894d-63a4e3cae0d5",
   "metadata": {},
   "outputs": [
    {
     "name": "stdout",
     "output_type": "stream",
     "text": [
      "(503, 3)\n"
     ]
    },
    {
     "data": {
      "text/html": [
       "<div>\n",
       "<style scoped>\n",
       "    .dataframe tbody tr th:only-of-type {\n",
       "        vertical-align: middle;\n",
       "    }\n",
       "\n",
       "    .dataframe tbody tr th {\n",
       "        vertical-align: top;\n",
       "    }\n",
       "\n",
       "    .dataframe thead th {\n",
       "        text-align: right;\n",
       "    }\n",
       "</style>\n",
       "<table border=\"1\" class=\"dataframe\">\n",
       "  <thead>\n",
       "    <tr style=\"text-align: right;\">\n",
       "      <th></th>\n",
       "      <th>Symbol</th>\n",
       "      <th>Security</th>\n",
       "      <th>GICS Sector</th>\n",
       "    </tr>\n",
       "  </thead>\n",
       "  <tbody>\n",
       "    <tr>\n",
       "      <th>0</th>\n",
       "      <td>MMM</td>\n",
       "      <td>3M</td>\n",
       "      <td>Industrials</td>\n",
       "    </tr>\n",
       "    <tr>\n",
       "      <th>1</th>\n",
       "      <td>AOS</td>\n",
       "      <td>A. O. Smith</td>\n",
       "      <td>Industrials</td>\n",
       "    </tr>\n",
       "    <tr>\n",
       "      <th>2</th>\n",
       "      <td>ABT</td>\n",
       "      <td>Abbott Laboratories</td>\n",
       "      <td>Health Care</td>\n",
       "    </tr>\n",
       "    <tr>\n",
       "      <th>3</th>\n",
       "      <td>ABBV</td>\n",
       "      <td>AbbVie</td>\n",
       "      <td>Health Care</td>\n",
       "    </tr>\n",
       "    <tr>\n",
       "      <th>4</th>\n",
       "      <td>ACN</td>\n",
       "      <td>Accenture</td>\n",
       "      <td>Information Technology</td>\n",
       "    </tr>\n",
       "  </tbody>\n",
       "</table>\n",
       "</div>"
      ],
      "text/plain": [
       "  Symbol             Security             GICS Sector\n",
       "0    MMM                   3M             Industrials\n",
       "1    AOS          A. O. Smith             Industrials\n",
       "2    ABT  Abbott Laboratories             Health Care\n",
       "3   ABBV               AbbVie             Health Care\n",
       "4    ACN            Accenture  Information Technology"
      ]
     },
     "execution_count": 2,
     "metadata": {},
     "output_type": "execute_result"
    }
   ],
   "source": [
    "tables=pd.read_html(\"https://en.wikipedia.org/wiki/List_of_S%26P_500_companies\")\n",
    "sp500_wiki=tables[0]\n",
    "sp500_wiki=sp500_wiki.iloc[:,:3]\n",
    "print(sp500_wiki.shape)\n",
    "sp500_wiki.head()"
   ]
  },
  {
   "cell_type": "code",
   "execution_count": 17,
   "id": "bbdcbfb1-d705-46e3-abe9-d27395f35e4b",
   "metadata": {},
   "outputs": [],
   "source": [
    "tickers=sp500_wiki['Symbol'].unique().tolist()\n",
    "tickers[:10]"
   ]
  },
  {
   "cell_type": "code",
   "execution_count": 18,
   "id": "f1a6f537-373e-4847-bcd2-219d30b57ecc",
   "metadata": {},
   "outputs": [],
   "source": [
    "tickers = [t.replace('BF.B', 'BF-B').replace('BRK.B', 'BRK-B') for t in tickers]"
   ]
  },
  {
   "cell_type": "code",
   "execution_count": 19,
   "id": "e8624e6e-f7cf-4667-b70b-ed268015d311",
   "metadata": {},
   "outputs": [
    {
     "name": "stderr",
     "output_type": "stream",
     "text": [
      "[*********************100%***********************]  8 of 10 completed\n",
      "\n",
      "10 Failed downloads:\n",
      "[*********************100%***********************]  8 of 10 completed['ABBV', 'AES', 'AOS', 'ABT', 'A', 'AFL', 'ACN', 'AMD', 'MMM', 'ADBE']: YFRateLimitError('Too Many Requests. Rate limited. Try after a while.')\n"
     ]
    },
    {
     "name": "stdout",
     "output_type": "stream",
     "text": [
      "(0, 11)\n"
     ]
    },
    {
     "data": {
      "text/html": [
       "<div>\n",
       "<style scoped>\n",
       "    .dataframe tbody tr th:only-of-type {\n",
       "        vertical-align: middle;\n",
       "    }\n",
       "\n",
       "    .dataframe tbody tr th {\n",
       "        vertical-align: top;\n",
       "    }\n",
       "\n",
       "    .dataframe thead th {\n",
       "        text-align: right;\n",
       "    }\n",
       "</style>\n",
       "<table border=\"1\" class=\"dataframe\">\n",
       "  <thead>\n",
       "    <tr style=\"text-align: right;\">\n",
       "      <th>Ticker</th>\n",
       "      <th>Date</th>\n",
       "      <th>A</th>\n",
       "      <th>ABBV</th>\n",
       "      <th>ABT</th>\n",
       "      <th>ACN</th>\n",
       "      <th>ADBE</th>\n",
       "      <th>AES</th>\n",
       "      <th>AFL</th>\n",
       "      <th>AMD</th>\n",
       "      <th>AOS</th>\n",
       "      <th>MMM</th>\n",
       "    </tr>\n",
       "  </thead>\n",
       "  <tbody>\n",
       "  </tbody>\n",
       "</table>\n",
       "</div>"
      ],
      "text/plain": [
       "Empty DataFrame\n",
       "Columns: [Date, A, ABBV, ABT, ACN, ADBE, AES, AFL, AMD, AOS, MMM]\n",
       "Index: []"
      ]
     },
     "execution_count": 19,
     "metadata": {},
     "output_type": "execute_result"
    }
   ],
   "source": [
    "start_date=\"2018-01-01\"\n",
    "end_date=\"2024-12-31\"\n",
    "df = yf.download(tickers  ,start=start_date, end=end_date)\n",
    "df= df['Close'].reset_index()\n",
    "print(df.shape)\n",
    "df.head()"
   ]
  },
  {
   "cell_type": "code",
   "execution_count": 6,
   "id": "36048373-f0a7-402d-993f-bfeb69a60dd5",
   "metadata": {},
   "outputs": [
    {
     "data": {
      "text/html": [
       "<div>\n",
       "<style scoped>\n",
       "    .dataframe tbody tr th:only-of-type {\n",
       "        vertical-align: middle;\n",
       "    }\n",
       "\n",
       "    .dataframe tbody tr th {\n",
       "        vertical-align: top;\n",
       "    }\n",
       "\n",
       "    .dataframe thead th {\n",
       "        text-align: right;\n",
       "    }\n",
       "</style>\n",
       "<table border=\"1\" class=\"dataframe\">\n",
       "  <thead>\n",
       "    <tr style=\"text-align: right;\">\n",
       "      <th></th>\n",
       "      <th>Ticker</th>\n",
       "      <th>0</th>\n",
       "    </tr>\n",
       "  </thead>\n",
       "  <tbody>\n",
       "  </tbody>\n",
       "</table>\n",
       "</div>"
      ],
      "text/plain": [
       "Empty DataFrame\n",
       "Columns: [Ticker, 0]\n",
       "Index: []"
      ]
     },
     "execution_count": 6,
     "metadata": {},
     "output_type": "execute_result"
    }
   ],
   "source": [
    "df_low=df.isna().sum().reset_index()\n",
    "df_low=df_low[df_low[0]>0]\n",
    "df_low.head()"
   ]
  },
  {
   "cell_type": "code",
   "execution_count": 7,
   "id": "01249c4d-df79-4aa3-8796-15b102c66733",
   "metadata": {},
   "outputs": [
    {
     "data": {
      "text/plain": [
       "array([], dtype=object)"
      ]
     },
     "execution_count": 7,
     "metadata": {},
     "output_type": "execute_result"
    }
   ],
   "source": [
    "df_low['Ticker'].unique()"
   ]
  },
  {
   "cell_type": "code",
   "execution_count": 8,
   "id": "37ecc586-40eb-4d88-b4aa-85fce48def17",
   "metadata": {},
   "outputs": [
    {
     "name": "stdout",
     "output_type": "stream",
     "text": [
      "(0, 504)\n"
     ]
    },
    {
     "data": {
      "text/html": [
       "<div>\n",
       "<style scoped>\n",
       "    .dataframe tbody tr th:only-of-type {\n",
       "        vertical-align: middle;\n",
       "    }\n",
       "\n",
       "    .dataframe tbody tr th {\n",
       "        vertical-align: top;\n",
       "    }\n",
       "\n",
       "    .dataframe thead th {\n",
       "        text-align: right;\n",
       "    }\n",
       "</style>\n",
       "<table border=\"1\" class=\"dataframe\">\n",
       "  <thead>\n",
       "    <tr style=\"text-align: right;\">\n",
       "      <th>Ticker</th>\n",
       "      <th>Date</th>\n",
       "      <th>A</th>\n",
       "      <th>AAPL</th>\n",
       "      <th>ABBV</th>\n",
       "      <th>ABNB</th>\n",
       "      <th>ABT</th>\n",
       "      <th>ACGL</th>\n",
       "      <th>ACN</th>\n",
       "      <th>ADBE</th>\n",
       "      <th>ADI</th>\n",
       "      <th>...</th>\n",
       "      <th>WTW</th>\n",
       "      <th>WY</th>\n",
       "      <th>WYNN</th>\n",
       "      <th>XEL</th>\n",
       "      <th>XOM</th>\n",
       "      <th>XYL</th>\n",
       "      <th>YUM</th>\n",
       "      <th>ZBH</th>\n",
       "      <th>ZBRA</th>\n",
       "      <th>ZTS</th>\n",
       "    </tr>\n",
       "  </thead>\n",
       "  <tbody>\n",
       "  </tbody>\n",
       "</table>\n",
       "<p>0 rows × 504 columns</p>\n",
       "</div>"
      ],
      "text/plain": [
       "Empty DataFrame\n",
       "Columns: [Date, A, AAPL, ABBV, ABNB, ABT, ACGL, ACN, ADBE, ADI, ADM, ADP, ADSK, AEE, AEP, AES, AFL, AIG, AIZ, AJG, AKAM, ALB, ALGN, ALL, ALLE, AMAT, AMCR, AMD, AME, AMGN, AMP, AMT, AMZN, ANET, ANSS, AON, AOS, APA, APD, APH, APO, APTV, ARE, ATO, AVB, AVGO, AVY, AWK, AXON, AXP, AZO, BA, BAC, BALL, BAX, BBY, BDX, BEN, BF-B, BG, BIIB, BK, BKNG, BKR, BLDR, BLK, BMY, BR, BRK-B, BRO, BSX, BX, BXP, C, CAG, CAH, CARR, CAT, CB, CBOE, CBRE, CCI, CCL, CDNS, CDW, CEG, CF, CFG, CHD, CHRW, CHTR, CI, CINF, CL, CLX, CMCSA, CME, CMG, CMI, CMS, ...]\n",
       "Index: []\n",
       "\n",
       "[0 rows x 504 columns]"
      ]
     },
     "execution_count": 8,
     "metadata": {},
     "output_type": "execute_result"
    }
   ],
   "source": [
    "df = df.drop(columns=df_low['Ticker'].unique())\n",
    "print(df.shape)\n",
    "df.head()"
   ]
  },
  {
   "cell_type": "code",
   "execution_count": 9,
   "id": "2bb3c3ee-c425-4fb4-aa9a-3a6075d174ae",
   "metadata": {},
   "outputs": [
    {
     "name": "stderr",
     "output_type": "stream",
     "text": [
      "[*********************100%***********************]  1 of 1 completed\n",
      "\n",
      "1 Failed download:\n",
      "['^GSPC']: YFRateLimitError('Too Many Requests. Rate limited. Try after a while.')\n"
     ]
    },
    {
     "name": "stdout",
     "output_type": "stream",
     "text": [
      "(0, 505)\n"
     ]
    },
    {
     "data": {
      "text/html": [
       "<div>\n",
       "<style scoped>\n",
       "    .dataframe tbody tr th:only-of-type {\n",
       "        vertical-align: middle;\n",
       "    }\n",
       "\n",
       "    .dataframe tbody tr th {\n",
       "        vertical-align: top;\n",
       "    }\n",
       "\n",
       "    .dataframe thead th {\n",
       "        text-align: right;\n",
       "    }\n",
       "</style>\n",
       "<table border=\"1\" class=\"dataframe\">\n",
       "  <thead>\n",
       "    <tr style=\"text-align: right;\">\n",
       "      <th>Ticker</th>\n",
       "      <th>A</th>\n",
       "      <th>AAPL</th>\n",
       "      <th>ABBV</th>\n",
       "      <th>ABNB</th>\n",
       "      <th>ABT</th>\n",
       "      <th>ACGL</th>\n",
       "      <th>ACN</th>\n",
       "      <th>ADBE</th>\n",
       "      <th>ADI</th>\n",
       "      <th>ADM</th>\n",
       "      <th>...</th>\n",
       "      <th>WYNN</th>\n",
       "      <th>XEL</th>\n",
       "      <th>XOM</th>\n",
       "      <th>XYL</th>\n",
       "      <th>YUM</th>\n",
       "      <th>ZBH</th>\n",
       "      <th>ZBRA</th>\n",
       "      <th>ZTS</th>\n",
       "      <th>Date</th>\n",
       "      <th>^GSPC</th>\n",
       "    </tr>\n",
       "  </thead>\n",
       "  <tbody>\n",
       "  </tbody>\n",
       "</table>\n",
       "<p>0 rows × 505 columns</p>\n",
       "</div>"
      ],
      "text/plain": [
       "Empty DataFrame\n",
       "Columns: [A, AAPL, ABBV, ABNB, ABT, ACGL, ACN, ADBE, ADI, ADM, ADP, ADSK, AEE, AEP, AES, AFL, AIG, AIZ, AJG, AKAM, ALB, ALGN, ALL, ALLE, AMAT, AMCR, AMD, AME, AMGN, AMP, AMT, AMZN, ANET, ANSS, AON, AOS, APA, APD, APH, APO, APTV, ARE, ATO, AVB, AVGO, AVY, AWK, AXON, AXP, AZO, BA, BAC, BALL, BAX, BBY, BDX, BEN, BF-B, BG, BIIB, BK, BKNG, BKR, BLDR, BLK, BMY, BR, BRK-B, BRO, BSX, BX, BXP, C, CAG, CAH, CARR, CAT, CB, CBOE, CBRE, CCI, CCL, CDNS, CDW, CEG, CF, CFG, CHD, CHRW, CHTR, CI, CINF, CL, CLX, CMCSA, CME, CMG, CMI, CMS, CNC, ...]\n",
       "Index: []\n",
       "\n",
       "[0 rows x 505 columns]"
      ]
     },
     "execution_count": 9,
     "metadata": {},
     "output_type": "execute_result"
    }
   ],
   "source": [
    "sp500 = yf.download('^GSPC', start=start_date, end=end_date)\n",
    "sp500= sp500['Close'].reset_index()\n",
    "df=df.merge(sp500, how='inner')\n",
    "print(df.shape)\n",
    "df.head()"
   ]
  },
  {
   "cell_type": "code",
   "execution_count": 10,
   "id": "93d7be39-9e44-4fe7-804d-a1c88e39e264",
   "metadata": {},
   "outputs": [
    {
     "name": "stdout",
     "output_type": "stream",
     "text": [
      "(0, 505)\n"
     ]
    },
    {
     "data": {
      "text/html": [
       "<div>\n",
       "<style scoped>\n",
       "    .dataframe tbody tr th:only-of-type {\n",
       "        vertical-align: middle;\n",
       "    }\n",
       "\n",
       "    .dataframe tbody tr th {\n",
       "        vertical-align: top;\n",
       "    }\n",
       "\n",
       "    .dataframe thead th {\n",
       "        text-align: right;\n",
       "    }\n",
       "</style>\n",
       "<table border=\"1\" class=\"dataframe\">\n",
       "  <thead>\n",
       "    <tr style=\"text-align: right;\">\n",
       "      <th>Ticker</th>\n",
       "      <th>Date</th>\n",
       "      <th>A</th>\n",
       "      <th>AAPL</th>\n",
       "      <th>ABBV</th>\n",
       "      <th>ABNB</th>\n",
       "      <th>ABT</th>\n",
       "      <th>ACGL</th>\n",
       "      <th>ACN</th>\n",
       "      <th>ADBE</th>\n",
       "      <th>ADI</th>\n",
       "      <th>...</th>\n",
       "      <th>WY</th>\n",
       "      <th>WYNN</th>\n",
       "      <th>XEL</th>\n",
       "      <th>XOM</th>\n",
       "      <th>XYL</th>\n",
       "      <th>YUM</th>\n",
       "      <th>ZBH</th>\n",
       "      <th>ZBRA</th>\n",
       "      <th>ZTS</th>\n",
       "      <th>^GSPC</th>\n",
       "    </tr>\n",
       "  </thead>\n",
       "  <tbody>\n",
       "  </tbody>\n",
       "</table>\n",
       "<p>0 rows × 505 columns</p>\n",
       "</div>"
      ],
      "text/plain": [
       "Empty DataFrame\n",
       "Columns: [Date, A, AAPL, ABBV, ABNB, ABT, ACGL, ACN, ADBE, ADI, ADM, ADP, ADSK, AEE, AEP, AES, AFL, AIG, AIZ, AJG, AKAM, ALB, ALGN, ALL, ALLE, AMAT, AMCR, AMD, AME, AMGN, AMP, AMT, AMZN, ANET, ANSS, AON, AOS, APA, APD, APH, APO, APTV, ARE, ATO, AVB, AVGO, AVY, AWK, AXON, AXP, AZO, BA, BAC, BALL, BAX, BBY, BDX, BEN, BF-B, BG, BIIB, BK, BKNG, BKR, BLDR, BLK, BMY, BR, BRK-B, BRO, BSX, BX, BXP, C, CAG, CAH, CARR, CAT, CB, CBOE, CBRE, CCI, CCL, CDNS, CDW, CEG, CF, CFG, CHD, CHRW, CHTR, CI, CINF, CL, CLX, CMCSA, CME, CMG, CMI, CMS, ...]\n",
       "Index: []\n",
       "\n",
       "[0 rows x 505 columns]"
      ]
     },
     "execution_count": 10,
     "metadata": {},
     "output_type": "execute_result"
    }
   ],
   "source": [
    "#df.drop(columns=['Date'],axis=1,inplace=True)\n",
    "df.set_index('Date', inplace=True)\n",
    "\n",
    "df_returns = np.log(df / df.shift(1))\n",
    "\n",
    "df_returns = df_returns.dropna()\n",
    "\n",
    "df_returns.reset_index(inplace=True)\n",
    "\n",
    "print(df_returns.shape)\n",
    "df_returns.head()"
   ]
  },
  {
   "cell_type": "code",
   "execution_count": 11,
   "id": "f228b080-059a-4a1f-82f5-f1c9187492b6",
   "metadata": {},
   "outputs": [],
   "source": [
    "def rolling_data(df, window_years=2, step_years=1):\n",
    "    df_copy=df.copy()\n",
    "    df_copy['Year']=df_copy['Date'].dt.year\n",
    "    min_date=df_copy['Year'].min()\n",
    "    df_copy1=df_copy[df_copy['Year'].isin([min_date,min_date+1])]\n",
    "    df_copy2=df_copy[df_copy['Year'].isin([min_date+1,min_date+2])]\n",
    "    df_copy3=df_copy[df_copy['Year'].isin([min_date+2,min_date+3])]\n",
    "    df_copy4=df_copy[df_copy['Year'].isin([min_date+3,min_date+4])]\n",
    "    df_copy5=df_copy[df_copy['Year'].isin([min_date+4,min_date+5])]\n",
    "    df_copy6=df_copy[df_copy['Year'].isin([min_date+5,min_date+6])]\n",
    "    \n",
    "    df_copy1.drop(columns=['Date','Year'],inplace=True)\n",
    "    df_copy2.drop(columns=['Date','Year'],inplace=True)\n",
    "    df_copy3.drop(columns=['Date','Year'],inplace=True)\n",
    "    df_copy4.drop(columns=['Date','Year'],inplace=True)\n",
    "    df_copy5.drop(columns=['Date','Year'],inplace=True)\n",
    "    df_copy6.drop(columns=['Date','Year'],inplace=True)\n",
    "\n",
    "    return df_copy1,df_copy2,df_copy3,df_copy4,df_copy5,df_copy6\n",
    "\n",
    "data=rolling_data(df_returns, window_years=2, step_years=1)\n",
    "df1,df2,df3,df4,df5,df6=data[0],data[1],data[2],data[3],data[4],data[5]"
   ]
  },
  {
   "cell_type": "code",
   "execution_count": 12,
   "id": "52d2df88-af28-46a5-a8fe-b31ecfcdf159",
   "metadata": {},
   "outputs": [
    {
     "data": {
      "text/html": [
       "<div>\n",
       "<style scoped>\n",
       "    .dataframe tbody tr th:only-of-type {\n",
       "        vertical-align: middle;\n",
       "    }\n",
       "\n",
       "    .dataframe tbody tr th {\n",
       "        vertical-align: top;\n",
       "    }\n",
       "\n",
       "    .dataframe thead th {\n",
       "        text-align: right;\n",
       "    }\n",
       "</style>\n",
       "<table border=\"1\" class=\"dataframe\">\n",
       "  <thead>\n",
       "    <tr style=\"text-align: right;\">\n",
       "      <th>Ticker</th>\n",
       "      <th>A</th>\n",
       "      <th>AAPL</th>\n",
       "      <th>ABBV</th>\n",
       "      <th>ABNB</th>\n",
       "      <th>ABT</th>\n",
       "      <th>ACGL</th>\n",
       "      <th>ACN</th>\n",
       "      <th>ADBE</th>\n",
       "      <th>ADI</th>\n",
       "      <th>ADM</th>\n",
       "      <th>...</th>\n",
       "      <th>WY</th>\n",
       "      <th>WYNN</th>\n",
       "      <th>XEL</th>\n",
       "      <th>XOM</th>\n",
       "      <th>XYL</th>\n",
       "      <th>YUM</th>\n",
       "      <th>ZBH</th>\n",
       "      <th>ZBRA</th>\n",
       "      <th>ZTS</th>\n",
       "      <th>^GSPC</th>\n",
       "    </tr>\n",
       "  </thead>\n",
       "  <tbody>\n",
       "  </tbody>\n",
       "</table>\n",
       "<p>0 rows × 504 columns</p>\n",
       "</div>"
      ],
      "text/plain": [
       "Empty DataFrame\n",
       "Columns: [A, AAPL, ABBV, ABNB, ABT, ACGL, ACN, ADBE, ADI, ADM, ADP, ADSK, AEE, AEP, AES, AFL, AIG, AIZ, AJG, AKAM, ALB, ALGN, ALL, ALLE, AMAT, AMCR, AMD, AME, AMGN, AMP, AMT, AMZN, ANET, ANSS, AON, AOS, APA, APD, APH, APO, APTV, ARE, ATO, AVB, AVGO, AVY, AWK, AXON, AXP, AZO, BA, BAC, BALL, BAX, BBY, BDX, BEN, BF-B, BG, BIIB, BK, BKNG, BKR, BLDR, BLK, BMY, BR, BRK-B, BRO, BSX, BX, BXP, C, CAG, CAH, CARR, CAT, CB, CBOE, CBRE, CCI, CCL, CDNS, CDW, CEG, CF, CFG, CHD, CHRW, CHTR, CI, CINF, CL, CLX, CMCSA, CME, CMG, CMI, CMS, CNC, ...]\n",
       "Index: []\n",
       "\n",
       "[0 rows x 504 columns]"
      ]
     },
     "execution_count": 12,
     "metadata": {},
     "output_type": "execute_result"
    }
   ],
   "source": [
    "df1"
   ]
  },
  {
   "cell_type": "code",
   "execution_count": 13,
   "id": "b6a0e55d-7ba2-41b6-ad60-ddc9151b68e6",
   "metadata": {},
   "outputs": [
    {
     "data": {
      "text/html": [
       "<div>\n",
       "<style scoped>\n",
       "    .dataframe tbody tr th:only-of-type {\n",
       "        vertical-align: middle;\n",
       "    }\n",
       "\n",
       "    .dataframe tbody tr th {\n",
       "        vertical-align: top;\n",
       "    }\n",
       "\n",
       "    .dataframe thead th {\n",
       "        text-align: right;\n",
       "    }\n",
       "</style>\n",
       "<table border=\"1\" class=\"dataframe\">\n",
       "  <thead>\n",
       "    <tr style=\"text-align: right;\">\n",
       "      <th>Ticker</th>\n",
       "      <th>A</th>\n",
       "      <th>AAPL</th>\n",
       "      <th>ABBV</th>\n",
       "      <th>ABNB</th>\n",
       "      <th>ABT</th>\n",
       "      <th>ACGL</th>\n",
       "      <th>ACN</th>\n",
       "      <th>ADBE</th>\n",
       "      <th>ADI</th>\n",
       "      <th>ADM</th>\n",
       "      <th>...</th>\n",
       "      <th>WY</th>\n",
       "      <th>WYNN</th>\n",
       "      <th>XEL</th>\n",
       "      <th>XOM</th>\n",
       "      <th>XYL</th>\n",
       "      <th>YUM</th>\n",
       "      <th>ZBH</th>\n",
       "      <th>ZBRA</th>\n",
       "      <th>ZTS</th>\n",
       "      <th>^GSPC</th>\n",
       "    </tr>\n",
       "  </thead>\n",
       "  <tbody>\n",
       "  </tbody>\n",
       "</table>\n",
       "<p>0 rows × 504 columns</p>\n",
       "</div>"
      ],
      "text/plain": [
       "Empty DataFrame\n",
       "Columns: [A, AAPL, ABBV, ABNB, ABT, ACGL, ACN, ADBE, ADI, ADM, ADP, ADSK, AEE, AEP, AES, AFL, AIG, AIZ, AJG, AKAM, ALB, ALGN, ALL, ALLE, AMAT, AMCR, AMD, AME, AMGN, AMP, AMT, AMZN, ANET, ANSS, AON, AOS, APA, APD, APH, APO, APTV, ARE, ATO, AVB, AVGO, AVY, AWK, AXON, AXP, AZO, BA, BAC, BALL, BAX, BBY, BDX, BEN, BF-B, BG, BIIB, BK, BKNG, BKR, BLDR, BLK, BMY, BR, BRK-B, BRO, BSX, BX, BXP, C, CAG, CAH, CARR, CAT, CB, CBOE, CBRE, CCI, CCL, CDNS, CDW, CEG, CF, CFG, CHD, CHRW, CHTR, CI, CINF, CL, CLX, CMCSA, CME, CMG, CMI, CMS, CNC, ...]\n",
       "Index: []\n",
       "\n",
       "[0 rows x 504 columns]"
      ]
     },
     "execution_count": 13,
     "metadata": {},
     "output_type": "execute_result"
    }
   ],
   "source": [
    "df6"
   ]
  },
  {
   "cell_type": "code",
   "execution_count": 14,
   "id": "f2e479f7-4511-405a-8dcd-5da3771b98da",
   "metadata": {},
   "outputs": [],
   "source": [
    "def compute_risk_measures(returns_series,index_returns,THRESHOLD_Q,Q_LEVEL):\n",
    "    cum_ret = returns_series.cumsum()\n",
    "    drawdowns = cum_ret.expanding().max() - cum_ret\n",
    "\n",
    "    edor = np.mean(np.maximum(drawdowns - THRESHOLD_Q, 0))\n",
    "\n",
    "    cdar = np.mean(np.sort(drawdowns)[-int(Q_LEVEL * len(drawdowns)):])\n",
    "    \n",
    "    cvar_threshold = np.quantile(returns_series, 1-Q_LEVEL)\n",
    "    cvar = -returns_series[returns_series <= cvar_threshold].mean()\n",
    "\n",
    "    lpm1 = np.mean(np.maximum(0 - returns_series, 0))\n",
    "    lpm2 = np.mean(np.maximum(0 - returns_series, 0) ** 2)\n",
    "    lpm3 = np.mean(np.maximum(0 - returns_series, 0) ** 3)\n",
    "    lpm4 = np.mean(np.maximum(0 - returns_series, 0) ** 4)\n",
    "\n",
    "    max_drawdown = drawdowns.max()\n",
    "    var = np.quantile(returns_series, 1-Q_LEVEL)\n",
    "    volatility = returns_series.std() * np.sqrt(252)\n",
    "\n",
    "    mask = index_returns < 0\n",
    "    index_down = index_returns[mask]\n",
    "    stock_down = returns_series[mask]\n",
    "    combined = pd.concat([stock_down, index_down], axis=1).dropna()\n",
    "    cov = np.cov(combined.iloc[:, 0], combined.iloc[:, 1])[0, 1]\n",
    "    varr = np.var(combined.iloc[:, 1])\n",
    "    downside_beta=cov / varr\n",
    "\n",
    "    return [edor, cdar, cvar, lpm1, lpm2, lpm3, lpm4, max_drawdown, var ,volatility, downside_beta ]\n"
   ]
  },
  {
   "cell_type": "code",
   "execution_count": 15,
   "id": "138e41aa-cdfc-4363-ae50-9d920e86ebfc",
   "metadata": {},
   "outputs": [],
   "source": [
    "def risk_matrix(df,THRESHOLD_Q, Q_LEVEL):\n",
    "    stocks=list(df.columns)\n",
    "    stocks.remove('^GSPC')\n",
    "    new_df = pd.DataFrame(\n",
    "    {ticker: compute_risk_measures(df[ticker],df['^GSPC'],THRESHOLD_Q,Q_LEVEL) for ticker in stocks}).T\n",
    "\n",
    "    new_df.columns = [\"EDoR\", \"CDaR\", \"CVaR\", \"LPM1\", \"LPM2\", \"LPM3\", \"LPM4\", \"Max Drawdown\",\"VaR\",\"Volatility\",\"Downside Beta\"]\n",
    "\n",
    "\n",
    "    return  new_df"
   ]
  },
  {
   "cell_type": "code",
   "execution_count": 16,
   "id": "0448c96f-e6ad-4377-85c5-f6b6fea095ec",
   "metadata": {},
   "outputs": [
    {
     "name": "stderr",
     "output_type": "stream",
     "text": [
      "C:\\Users\\Ajeet Rai\\anaconda3\\Lib\\site-packages\\numpy\\core\\fromnumeric.py:3504: RuntimeWarning: Mean of empty slice.\n",
      "  return _methods._mean(a, axis=axis, dtype=dtype,\n",
      "C:\\Users\\Ajeet Rai\\anaconda3\\Lib\\site-packages\\numpy\\core\\_methods.py:129: RuntimeWarning: invalid value encountered in scalar divide\n",
      "  ret = ret.dtype.type(ret / rcount)\n"
     ]
    },
    {
     "ename": "IndexError",
     "evalue": "index -1 is out of bounds for axis 0 with size 0",
     "output_type": "error",
     "traceback": [
      "\u001b[1;31m---------------------------------------------------------------------------\u001b[0m",
      "\u001b[1;31mIndexError\u001b[0m                                Traceback (most recent call last)",
      "Cell \u001b[1;32mIn[16], line 4\u001b[0m\n\u001b[0;32m      1\u001b[0m THRESHOLD_Q \u001b[38;5;241m=\u001b[39m \u001b[38;5;241m0.2\u001b[39m  \n\u001b[0;32m      2\u001b[0m Q_LEVEL \u001b[38;5;241m=\u001b[39m \u001b[38;5;241m0.1\u001b[39m \n\u001b[1;32m----> 4\u001b[0m risk_matrix_df1\u001b[38;5;241m=\u001b[39mrisk_matrix(df1,THRESHOLD_Q, Q_LEVEL)\n\u001b[0;32m      5\u001b[0m risk_matrix_df2\u001b[38;5;241m=\u001b[39mrisk_matrix(df2,THRESHOLD_Q, Q_LEVEL)\n\u001b[0;32m      6\u001b[0m risk_matrix_df3\u001b[38;5;241m=\u001b[39mrisk_matrix(df3,THRESHOLD_Q, Q_LEVEL)\n",
      "Cell \u001b[1;32mIn[15], line 5\u001b[0m, in \u001b[0;36mrisk_matrix\u001b[1;34m(df, THRESHOLD_Q, Q_LEVEL)\u001b[0m\n\u001b[0;32m      2\u001b[0m stocks\u001b[38;5;241m=\u001b[39m\u001b[38;5;28mlist\u001b[39m(df\u001b[38;5;241m.\u001b[39mcolumns)\n\u001b[0;32m      3\u001b[0m stocks\u001b[38;5;241m.\u001b[39mremove(\u001b[38;5;124m'\u001b[39m\u001b[38;5;124m^GSPC\u001b[39m\u001b[38;5;124m'\u001b[39m)\n\u001b[0;32m      4\u001b[0m new_df \u001b[38;5;241m=\u001b[39m pd\u001b[38;5;241m.\u001b[39mDataFrame(\n\u001b[1;32m----> 5\u001b[0m {ticker: compute_risk_measures(df[ticker],df[\u001b[38;5;124m'\u001b[39m\u001b[38;5;124m^GSPC\u001b[39m\u001b[38;5;124m'\u001b[39m],THRESHOLD_Q,Q_LEVEL) \u001b[38;5;28;01mfor\u001b[39;00m ticker \u001b[38;5;129;01min\u001b[39;00m stocks})\u001b[38;5;241m.\u001b[39mT\n\u001b[0;32m      7\u001b[0m new_df\u001b[38;5;241m.\u001b[39mcolumns \u001b[38;5;241m=\u001b[39m [\u001b[38;5;124m\"\u001b[39m\u001b[38;5;124mEDoR\u001b[39m\u001b[38;5;124m\"\u001b[39m, \u001b[38;5;124m\"\u001b[39m\u001b[38;5;124mCDaR\u001b[39m\u001b[38;5;124m\"\u001b[39m, \u001b[38;5;124m\"\u001b[39m\u001b[38;5;124mCVaR\u001b[39m\u001b[38;5;124m\"\u001b[39m, \u001b[38;5;124m\"\u001b[39m\u001b[38;5;124mLPM1\u001b[39m\u001b[38;5;124m\"\u001b[39m, \u001b[38;5;124m\"\u001b[39m\u001b[38;5;124mLPM2\u001b[39m\u001b[38;5;124m\"\u001b[39m, \u001b[38;5;124m\"\u001b[39m\u001b[38;5;124mLPM3\u001b[39m\u001b[38;5;124m\"\u001b[39m, \u001b[38;5;124m\"\u001b[39m\u001b[38;5;124mLPM4\u001b[39m\u001b[38;5;124m\"\u001b[39m, \u001b[38;5;124m\"\u001b[39m\u001b[38;5;124mMax Drawdown\u001b[39m\u001b[38;5;124m\"\u001b[39m,\u001b[38;5;124m\"\u001b[39m\u001b[38;5;124mVaR\u001b[39m\u001b[38;5;124m\"\u001b[39m,\u001b[38;5;124m\"\u001b[39m\u001b[38;5;124mVolatility\u001b[39m\u001b[38;5;124m\"\u001b[39m,\u001b[38;5;124m\"\u001b[39m\u001b[38;5;124mDownside Beta\u001b[39m\u001b[38;5;124m\"\u001b[39m]\n\u001b[0;32m     10\u001b[0m \u001b[38;5;28;01mreturn\u001b[39;00m  new_df\n",
      "Cell \u001b[1;32mIn[15], line 5\u001b[0m, in \u001b[0;36m<dictcomp>\u001b[1;34m(.0)\u001b[0m\n\u001b[0;32m      2\u001b[0m stocks\u001b[38;5;241m=\u001b[39m\u001b[38;5;28mlist\u001b[39m(df\u001b[38;5;241m.\u001b[39mcolumns)\n\u001b[0;32m      3\u001b[0m stocks\u001b[38;5;241m.\u001b[39mremove(\u001b[38;5;124m'\u001b[39m\u001b[38;5;124m^GSPC\u001b[39m\u001b[38;5;124m'\u001b[39m)\n\u001b[0;32m      4\u001b[0m new_df \u001b[38;5;241m=\u001b[39m pd\u001b[38;5;241m.\u001b[39mDataFrame(\n\u001b[1;32m----> 5\u001b[0m {ticker: compute_risk_measures(df[ticker],df[\u001b[38;5;124m'\u001b[39m\u001b[38;5;124m^GSPC\u001b[39m\u001b[38;5;124m'\u001b[39m],THRESHOLD_Q,Q_LEVEL) \u001b[38;5;28;01mfor\u001b[39;00m ticker \u001b[38;5;129;01min\u001b[39;00m stocks})\u001b[38;5;241m.\u001b[39mT\n\u001b[0;32m      7\u001b[0m new_df\u001b[38;5;241m.\u001b[39mcolumns \u001b[38;5;241m=\u001b[39m [\u001b[38;5;124m\"\u001b[39m\u001b[38;5;124mEDoR\u001b[39m\u001b[38;5;124m\"\u001b[39m, \u001b[38;5;124m\"\u001b[39m\u001b[38;5;124mCDaR\u001b[39m\u001b[38;5;124m\"\u001b[39m, \u001b[38;5;124m\"\u001b[39m\u001b[38;5;124mCVaR\u001b[39m\u001b[38;5;124m\"\u001b[39m, \u001b[38;5;124m\"\u001b[39m\u001b[38;5;124mLPM1\u001b[39m\u001b[38;5;124m\"\u001b[39m, \u001b[38;5;124m\"\u001b[39m\u001b[38;5;124mLPM2\u001b[39m\u001b[38;5;124m\"\u001b[39m, \u001b[38;5;124m\"\u001b[39m\u001b[38;5;124mLPM3\u001b[39m\u001b[38;5;124m\"\u001b[39m, \u001b[38;5;124m\"\u001b[39m\u001b[38;5;124mLPM4\u001b[39m\u001b[38;5;124m\"\u001b[39m, \u001b[38;5;124m\"\u001b[39m\u001b[38;5;124mMax Drawdown\u001b[39m\u001b[38;5;124m\"\u001b[39m,\u001b[38;5;124m\"\u001b[39m\u001b[38;5;124mVaR\u001b[39m\u001b[38;5;124m\"\u001b[39m,\u001b[38;5;124m\"\u001b[39m\u001b[38;5;124mVolatility\u001b[39m\u001b[38;5;124m\"\u001b[39m,\u001b[38;5;124m\"\u001b[39m\u001b[38;5;124mDownside Beta\u001b[39m\u001b[38;5;124m\"\u001b[39m]\n\u001b[0;32m     10\u001b[0m \u001b[38;5;28;01mreturn\u001b[39;00m  new_df\n",
      "Cell \u001b[1;32mIn[14], line 9\u001b[0m, in \u001b[0;36mcompute_risk_measures\u001b[1;34m(returns_series, index_returns, THRESHOLD_Q, Q_LEVEL)\u001b[0m\n\u001b[0;32m      5\u001b[0m edor \u001b[38;5;241m=\u001b[39m np\u001b[38;5;241m.\u001b[39mmean(np\u001b[38;5;241m.\u001b[39mmaximum(drawdowns \u001b[38;5;241m-\u001b[39m THRESHOLD_Q, \u001b[38;5;241m0\u001b[39m))\n\u001b[0;32m      7\u001b[0m cdar \u001b[38;5;241m=\u001b[39m np\u001b[38;5;241m.\u001b[39mmean(np\u001b[38;5;241m.\u001b[39msort(drawdowns)[\u001b[38;5;241m-\u001b[39m\u001b[38;5;28mint\u001b[39m(Q_LEVEL \u001b[38;5;241m*\u001b[39m \u001b[38;5;28mlen\u001b[39m(drawdowns)):])\n\u001b[1;32m----> 9\u001b[0m cvar_threshold \u001b[38;5;241m=\u001b[39m np\u001b[38;5;241m.\u001b[39mquantile(returns_series, \u001b[38;5;241m1\u001b[39m\u001b[38;5;241m-\u001b[39mQ_LEVEL)\n\u001b[0;32m     10\u001b[0m cvar \u001b[38;5;241m=\u001b[39m \u001b[38;5;241m-\u001b[39mreturns_series[returns_series \u001b[38;5;241m<\u001b[39m\u001b[38;5;241m=\u001b[39m cvar_threshold]\u001b[38;5;241m.\u001b[39mmean()\n\u001b[0;32m     12\u001b[0m lpm1 \u001b[38;5;241m=\u001b[39m np\u001b[38;5;241m.\u001b[39mmean(np\u001b[38;5;241m.\u001b[39mmaximum(\u001b[38;5;241m0\u001b[39m \u001b[38;5;241m-\u001b[39m returns_series, \u001b[38;5;241m0\u001b[39m))\n",
      "File \u001b[1;32m~\\anaconda3\\Lib\\site-packages\\numpy\\lib\\function_base.py:4543\u001b[0m, in \u001b[0;36mquantile\u001b[1;34m(a, q, axis, out, overwrite_input, method, keepdims, interpolation)\u001b[0m\n\u001b[0;32m   4541\u001b[0m \u001b[38;5;28;01mif\u001b[39;00m \u001b[38;5;129;01mnot\u001b[39;00m _quantile_is_valid(q):\n\u001b[0;32m   4542\u001b[0m     \u001b[38;5;28;01mraise\u001b[39;00m \u001b[38;5;167;01mValueError\u001b[39;00m(\u001b[38;5;124m\"\u001b[39m\u001b[38;5;124mQuantiles must be in the range [0, 1]\u001b[39m\u001b[38;5;124m\"\u001b[39m)\n\u001b[1;32m-> 4543\u001b[0m \u001b[38;5;28;01mreturn\u001b[39;00m _quantile_unchecked(\n\u001b[0;32m   4544\u001b[0m     a, q, axis, out, overwrite_input, method, keepdims)\n",
      "File \u001b[1;32m~\\anaconda3\\Lib\\site-packages\\numpy\\lib\\function_base.py:4555\u001b[0m, in \u001b[0;36m_quantile_unchecked\u001b[1;34m(a, q, axis, out, overwrite_input, method, keepdims)\u001b[0m\n\u001b[0;32m   4547\u001b[0m \u001b[38;5;28;01mdef\u001b[39;00m \u001b[38;5;21m_quantile_unchecked\u001b[39m(a,\n\u001b[0;32m   4548\u001b[0m                         q,\n\u001b[0;32m   4549\u001b[0m                         axis\u001b[38;5;241m=\u001b[39m\u001b[38;5;28;01mNone\u001b[39;00m,\n\u001b[1;32m   (...)\u001b[0m\n\u001b[0;32m   4552\u001b[0m                         method\u001b[38;5;241m=\u001b[39m\u001b[38;5;124m\"\u001b[39m\u001b[38;5;124mlinear\u001b[39m\u001b[38;5;124m\"\u001b[39m,\n\u001b[0;32m   4553\u001b[0m                         keepdims\u001b[38;5;241m=\u001b[39m\u001b[38;5;28;01mFalse\u001b[39;00m):\n\u001b[0;32m   4554\u001b[0m \u001b[38;5;250m    \u001b[39m\u001b[38;5;124;03m\"\"\"Assumes that q is in [0, 1], and is an ndarray\"\"\"\u001b[39;00m\n\u001b[1;32m-> 4555\u001b[0m     \u001b[38;5;28;01mreturn\u001b[39;00m _ureduce(a,\n\u001b[0;32m   4556\u001b[0m                     func\u001b[38;5;241m=\u001b[39m_quantile_ureduce_func,\n\u001b[0;32m   4557\u001b[0m                     q\u001b[38;5;241m=\u001b[39mq,\n\u001b[0;32m   4558\u001b[0m                     keepdims\u001b[38;5;241m=\u001b[39mkeepdims,\n\u001b[0;32m   4559\u001b[0m                     axis\u001b[38;5;241m=\u001b[39maxis,\n\u001b[0;32m   4560\u001b[0m                     out\u001b[38;5;241m=\u001b[39mout,\n\u001b[0;32m   4561\u001b[0m                     overwrite_input\u001b[38;5;241m=\u001b[39moverwrite_input,\n\u001b[0;32m   4562\u001b[0m                     method\u001b[38;5;241m=\u001b[39mmethod)\n",
      "File \u001b[1;32m~\\anaconda3\\Lib\\site-packages\\numpy\\lib\\function_base.py:3823\u001b[0m, in \u001b[0;36m_ureduce\u001b[1;34m(a, func, keepdims, **kwargs)\u001b[0m\n\u001b[0;32m   3820\u001b[0m             index_out \u001b[38;5;241m=\u001b[39m (\u001b[38;5;241m0\u001b[39m, ) \u001b[38;5;241m*\u001b[39m nd\n\u001b[0;32m   3821\u001b[0m             kwargs[\u001b[38;5;124m'\u001b[39m\u001b[38;5;124mout\u001b[39m\u001b[38;5;124m'\u001b[39m] \u001b[38;5;241m=\u001b[39m out[(\u001b[38;5;28mEllipsis\u001b[39m, ) \u001b[38;5;241m+\u001b[39m index_out]\n\u001b[1;32m-> 3823\u001b[0m r \u001b[38;5;241m=\u001b[39m func(a, \u001b[38;5;241m*\u001b[39m\u001b[38;5;241m*\u001b[39mkwargs)\n\u001b[0;32m   3825\u001b[0m \u001b[38;5;28;01mif\u001b[39;00m out \u001b[38;5;129;01mis\u001b[39;00m \u001b[38;5;129;01mnot\u001b[39;00m \u001b[38;5;28;01mNone\u001b[39;00m:\n\u001b[0;32m   3826\u001b[0m     \u001b[38;5;28;01mreturn\u001b[39;00m out\n",
      "File \u001b[1;32m~\\anaconda3\\Lib\\site-packages\\numpy\\lib\\function_base.py:4722\u001b[0m, in \u001b[0;36m_quantile_ureduce_func\u001b[1;34m(a, q, axis, out, overwrite_input, method)\u001b[0m\n\u001b[0;32m   4720\u001b[0m     \u001b[38;5;28;01melse\u001b[39;00m:\n\u001b[0;32m   4721\u001b[0m         arr \u001b[38;5;241m=\u001b[39m a\u001b[38;5;241m.\u001b[39mcopy()\n\u001b[1;32m-> 4722\u001b[0m result \u001b[38;5;241m=\u001b[39m _quantile(arr,\n\u001b[0;32m   4723\u001b[0m                    quantiles\u001b[38;5;241m=\u001b[39mq,\n\u001b[0;32m   4724\u001b[0m                    axis\u001b[38;5;241m=\u001b[39maxis,\n\u001b[0;32m   4725\u001b[0m                    method\u001b[38;5;241m=\u001b[39mmethod,\n\u001b[0;32m   4726\u001b[0m                    out\u001b[38;5;241m=\u001b[39mout)\n\u001b[0;32m   4727\u001b[0m \u001b[38;5;28;01mreturn\u001b[39;00m result\n",
      "File \u001b[1;32m~\\anaconda3\\Lib\\site-packages\\numpy\\lib\\function_base.py:4831\u001b[0m, in \u001b[0;36m_quantile\u001b[1;34m(arr, quantiles, axis, method, out)\u001b[0m\n\u001b[0;32m   4824\u001b[0m arr\u001b[38;5;241m.\u001b[39mpartition(\n\u001b[0;32m   4825\u001b[0m     np\u001b[38;5;241m.\u001b[39munique(np\u001b[38;5;241m.\u001b[39mconcatenate(([\u001b[38;5;241m0\u001b[39m, \u001b[38;5;241m-\u001b[39m\u001b[38;5;241m1\u001b[39m],\n\u001b[0;32m   4826\u001b[0m                               previous_indexes\u001b[38;5;241m.\u001b[39mravel(),\n\u001b[0;32m   4827\u001b[0m                               next_indexes\u001b[38;5;241m.\u001b[39mravel(),\n\u001b[0;32m   4828\u001b[0m                               ))),\n\u001b[0;32m   4829\u001b[0m     axis\u001b[38;5;241m=\u001b[39m\u001b[38;5;241m0\u001b[39m)\n\u001b[0;32m   4830\u001b[0m \u001b[38;5;28;01mif\u001b[39;00m supports_nans:\n\u001b[1;32m-> 4831\u001b[0m     slices_having_nans \u001b[38;5;241m=\u001b[39m np\u001b[38;5;241m.\u001b[39misnan(arr[\u001b[38;5;241m-\u001b[39m\u001b[38;5;241m1\u001b[39m, \u001b[38;5;241m.\u001b[39m\u001b[38;5;241m.\u001b[39m\u001b[38;5;241m.\u001b[39m])\n\u001b[0;32m   4832\u001b[0m \u001b[38;5;28;01melse\u001b[39;00m:\n\u001b[0;32m   4833\u001b[0m     slices_having_nans \u001b[38;5;241m=\u001b[39m \u001b[38;5;28;01mNone\u001b[39;00m\n",
      "\u001b[1;31mIndexError\u001b[0m: index -1 is out of bounds for axis 0 with size 0"
     ]
    }
   ],
   "source": [
    "THRESHOLD_Q = 0.2  \n",
    "Q_LEVEL = 0.1 \n",
    "\n",
    "risk_matrix_df1=risk_matrix(df1,THRESHOLD_Q, Q_LEVEL)\n",
    "risk_matrix_df2=risk_matrix(df2,THRESHOLD_Q, Q_LEVEL)\n",
    "risk_matrix_df3=risk_matrix(df3,THRESHOLD_Q, Q_LEVEL)\n",
    "risk_matrix_df4=risk_matrix(df4,THRESHOLD_Q, Q_LEVEL)\n",
    "risk_matrix_df5=risk_matrix(df5,THRESHOLD_Q, Q_LEVEL)\n",
    "risk_matrix_df6=risk_matrix(df6,THRESHOLD_Q, Q_LEVEL)\n"
   ]
  },
  {
   "cell_type": "code",
   "execution_count": null,
   "id": "84cf3dd9-f779-4e15-aa07-9da77ea571f5",
   "metadata": {},
   "outputs": [],
   "source": [
    "risk_matrix_df1"
   ]
  },
  {
   "cell_type": "code",
   "execution_count": null,
   "id": "5a0bb987-6238-4b76-a77a-4e7d63edc3d7",
   "metadata": {},
   "outputs": [],
   "source": [
    "risk_matrix_df6"
   ]
  },
  {
   "cell_type": "code",
   "execution_count": null,
   "id": "e5a24a00-813c-4e12-a155-0ca39ea5f4e5",
   "metadata": {},
   "outputs": [],
   "source": [
    "rank_df1=risk_matrix_df1.rank()\n",
    "rank_df1['Year']='2018'\n",
    "\n",
    "rank_df2=risk_matrix_df2.rank()\n",
    "rank_df2['Year']='2019'\n",
    "\n",
    "rank_df3=risk_matrix_df3.rank()\n",
    "rank_df3['Year']='2020'\n",
    "\n",
    "rank_df4=risk_matrix_df4.rank()\n",
    "rank_df4['Year']='2021'\n",
    "\n",
    "rank_df5=risk_matrix_df5.rank()\n",
    "rank_df5['Year']='2022'\n",
    "\n",
    "rank_df6=risk_matrix_df6.rank()\n",
    "rank_df6['Year']='2023'\n",
    "\n",
    "final_df=pd.concat([rank_df1,rank_df2,rank_df3,rank_df4,rank_df5,rank_df6],axis=0).reset_index()\n",
    "print(final_df.shape)\n",
    "final_df.head()"
   ]
  },
  {
   "cell_type": "code",
   "execution_count": null,
   "id": "c9f70d8b-ec0e-4878-b7aa-0cbdf355cfd3",
   "metadata": {},
   "outputs": [],
   "source": [
    "final_df[final_df['Year']=='2018']"
   ]
  },
  {
   "cell_type": "markdown",
   "id": "5e98b9b1-d2d3-4512-97d6-1c04a64127a8",
   "metadata": {},
   "source": [
    "# 3. Extreme Events: How do these rankings behave during market stress (e.g., COVID-19 crash in2020)? Are tail-focused measures like LPM4 or CVaR more consistent predictors of losses in such periods?"
   ]
  },
  {
   "cell_type": "code",
   "execution_count": null,
   "id": "2e733b9c-4700-4ff9-b86c-20435d26f3db",
   "metadata": {},
   "outputs": [],
   "source": [
    "d1 = final_df[final_df['Year'] == '2018']\n",
    "d2 = final_df[final_df['Year'] == '2019']\n",
    "\n",
    "var_corr, _ = spearmanr(d1['VaR'], d2['VaR'])\n",
    "lpm3_corr, _ = spearmanr(d1['LPM3'], d2['LPM3'])\n",
    "\n",
    "fig, ax = plt.subplots(1, 2, figsize=(14, 6))\n",
    "\n",
    "ax[0].scatter(d1['VaR'], d2['VaR'], color='green', s=15)\n",
    "ax[0].set_xlabel(\"VaR Rank (2018-2019)\")\n",
    "ax[0].set_ylabel(\"VaR Rank (2019-2020)\")\n",
    "ax[0].set_title(\"VaR Rank Sensitivity\")\n",
    "ax[0].grid(True, alpha=0.5)\n",
    "ax[0].text(0.5, 1.05, f\"Spearman ρ = {var_corr:.2f}\", transform=ax[0].transAxes,ha='center', va='bottom', fontsize=12)\n",
    "\n",
    "ax[1].scatter(d1['LPM3'], d2['LPM3'], color='red', s=15)\n",
    "ax[1].set_xlabel(\"LPM3 Rank (2018-2019)\")\n",
    "ax[1].set_ylabel(\"LPM3 Rank (2019-2020)\")\n",
    "ax[1].set_title(\"LPM3 Rank Sensitivity\")\n",
    "ax[1].grid(True, alpha=0.5)\n",
    "ax[1].text(0.5, 1.05, f\"Spearman ρ = {lpm3_corr:.2f}\", transform=ax[1].transAxes,ha='center', va='bottom', fontsize=12)\n",
    "\n",
    "plt.tight_layout()\n",
    "plt.show()\n"
   ]
  },
  {
   "cell_type": "code",
   "execution_count": null,
   "id": "bb507234-3623-408b-971e-90ab4b47ffdc",
   "metadata": {},
   "outputs": [],
   "source": [
    "d1 = final_df[final_df['Year'] == '2018']\n",
    "d2 = final_df[final_df['Year'] == '2023']\n",
    "\n",
    "var_corr, _ = spearmanr(d1['VaR'], d2['VaR'])\n",
    "lpm3_corr, _ = spearmanr(d1['LPM3'], d2['LPM3'])\n",
    "\n",
    "fig, ax = plt.subplots(1, 2, figsize=(14, 6))\n",
    "\n",
    "ax[0].scatter(d1['VaR'], d2['VaR'], color='green', s=15)\n",
    "ax[0].set_xlabel(\"VaR Rank (2018-2019)\")\n",
    "ax[0].set_ylabel(\"VaR Rank (2023-2014)\")\n",
    "ax[0].set_title(\"VaR Rank Sensitivity\")\n",
    "ax[0].grid(True, alpha=0.5)\n",
    "ax[0].text(0.5, 1.05, f\"Spearman ρ = {var_corr:.2f}\", transform=ax[0].transAxes,ha='center', va='bottom', fontsize=12)\n",
    "\n",
    "ax[1].scatter(d1['LPM3'], d2['LPM3'], color='red', s=15)\n",
    "ax[1].set_xlabel(\"LPM3 Rank (2018-2019)\")\n",
    "ax[1].set_ylabel(\"LPM3 Rank (2023-2024)\")\n",
    "ax[1].set_title(\"LPM3 Rank Sensitivity\")\n",
    "ax[1].grid(True, alpha=0.5)\n",
    "ax[1].text(0.5, 1.05, f\"Spearman ρ = {lpm3_corr:.2f}\", transform=ax[1].transAxes,ha='center', va='bottom', fontsize=12)\n",
    "\n",
    "plt.tight_layout()\n",
    "plt.show()\n"
   ]
  },
  {
   "cell_type": "code",
   "execution_count": null,
   "id": "62ff0fd7-c25a-4918-a5b7-cca45eba8690",
   "metadata": {},
   "outputs": [],
   "source": [
    "d1 = final_df[(final_df['Year'] == '2018') & (final_df['CVaR'] > 400)]\n",
    "d2 = final_df[(final_df['Year'] == '2019') & (final_df['CVaR'] > 400)]\n",
    "\n",
    "d3 = final_df[(final_df['Year'] == '2018') & (final_df['LPM3'] > 400)]\n",
    "d4 = final_df[(final_df['Year'] == '2019') & (final_df['LPM3'] > 400)]\n",
    "\n",
    "var_corr, _ = spearmanr(d1['CVaR'], d2['CVaR'])\n",
    "lpm3_corr, _ = spearmanr(d3['LPM3'], d4['LPM3'])\n",
    "\n",
    "fig, ax = plt.subplots(1, 2, figsize=(14, 6))\n",
    "\n",
    "ax[0].scatter(d1['CVaR'], d2['CVaR'], color='green', s=15)\n",
    "ax[0].set_xlabel(\"CVaR Rank (2018-2019)\")\n",
    "ax[0].set_ylabel(\"CVaR Rank (2019-2020)\")\n",
    "ax[0].set_title(\"CVaR Rank Sensitivity\")\n",
    "ax[0].axhline(y=400, color='blue', linestyle='--', linewidth=1)\n",
    "ax[0].axvline(x=400, color='blue', linestyle='--', linewidth=1)\n",
    "ax[0].grid(True, alpha=0.5)\n",
    "ax[0].text(0.5, 1.05, f\"Spearman ρ = {var_corr:.2f}\", transform=ax[0].transAxes,\n",
    "           ha='center', va='bottom', fontsize=12)\n",
    "\n",
    "ax[1].scatter(d3['LPM3'], d4['LPM3'], color='red', s=15)\n",
    "ax[1].set_xlabel(\"LPM3 Rank (2018-2019)\")\n",
    "ax[1].set_ylabel(\"LPM3 Rank (2019-2020)\")\n",
    "ax[1].set_title(\"LPM3 Rank Sensitivity\")\n",
    "ax[1].axhline(y=400, color='blue', linestyle='--', linewidth=1)\n",
    "ax[1].axvline(x=400, color='blue', linestyle='--', linewidth=1)\n",
    "ax[1].grid(True, alpha=0.5)\n",
    "ax[1].text(0.5, 1.05, f\"Spearman ρ = {lpm3_corr:.2f}\", transform=ax[1].transAxes,\n",
    "           ha='center', va='bottom', fontsize=12)\n",
    "\n",
    "plt.tight_layout()\n",
    "plt.show()\n"
   ]
  },
  {
   "cell_type": "code",
   "execution_count": null,
   "id": "267c58a3-e805-4945-9c64-3c4753654fc4",
   "metadata": {},
   "outputs": [],
   "source": [
    "import matplotlib.pyplot as plt\n",
    "from scipy.stats import spearmanr\n",
    "\n",
    "d1 = final_df[(final_df['Year'] == '2018') & (final_df['CVaR'] > 400)]\n",
    "d2 = final_df[(final_df['Year'] == '2023') & (final_df['CVaR'] > 400)]\n",
    "\n",
    "d3 = final_df[(final_df['Year'] == '2018') & (final_df['LPM3'] > 400)]\n",
    "d4 = final_df[(final_df['Year'] == '2023') & (final_df['LPM3'] > 400)]\n",
    "\n",
    "var_corr, _ = spearmanr(d1['CVaR'], d2['CVaR'])\n",
    "lpm3_corr, _ = spearmanr(d3['LPM3'], d4['LPM3'])\n",
    "\n",
    "fig, ax = plt.subplots(1, 2, figsize=(14, 6))\n",
    "\n",
    "ax[0].scatter(d1['CVaR'], d2['CVaR'], color='green', s=15)\n",
    "ax[0].set_xlabel(\"CVaR Rank (2018-2019)\")\n",
    "ax[0].set_ylabel(\"CVaR Rank (2023-2024)\")\n",
    "ax[0].set_title(\"CVaR Rank Sensitivity\")\n",
    "ax[0].axhline(y=400, color='blue', linestyle='--', linewidth=1)\n",
    "ax[0].axvline(x=400, color='blue', linestyle='--', linewidth=1)\n",
    "ax[0].grid(True, alpha=0.5)\n",
    "ax[0].text(0.5, 1.05, f\"Spearman ρ = {var_corr:.2f}\", transform=ax[0].transAxes,\n",
    "           ha='center', va='bottom', fontsize=12)\n",
    "\n",
    "ax[1].scatter(d3['LPM3'], d4['LPM3'], color='red', s=15)\n",
    "ax[1].set_xlabel(\"LPM3 Rank (2018-2019)\")\n",
    "ax[1].set_ylabel(\"LPM3 Rank (2023-2024)\")\n",
    "ax[1].set_title(\"LPM3 Rank Sensitivity\")\n",
    "ax[1].axhline(y=400, color='blue', linestyle='--', linewidth=1)\n",
    "ax[1].axvline(x=400, color='blue', linestyle='--', linewidth=1)\n",
    "ax[1].grid(True, alpha=0.5)\n",
    "ax[1].text(0.5, 1.05, f\"Spearman ρ = {lpm3_corr:.2f}\", transform=ax[1].transAxes,\n",
    "           ha='center', va='bottom', fontsize=12)\n",
    "\n",
    "plt.tight_layout()\n",
    "plt.show()\n"
   ]
  },
  {
   "cell_type": "code",
   "execution_count": null,
   "id": "8aff13c9-fb09-45fc-b273-f0fa8d8be038",
   "metadata": {},
   "outputs": [],
   "source": [
    "high_risk1 = final_df[(final_df['Year'] == '2018') & (final_df['CVaR'] > 400)]['index']\n",
    "high_risk2 = final_df[(final_df['Year'] == '2020') & (final_df['CVaR'] > 400)]['index']\n",
    "\n",
    "high_risk1"
   ]
  },
  {
   "cell_type": "code",
   "execution_count": null,
   "id": "e4e9397c-2a28-4c57-8d47-7ae54ce545ec",
   "metadata": {},
   "outputs": [],
   "source": [
    "data=df_returns[(df_returns['Date']>='2018-01-01') & (df_returns['Date']<='2021-12-31')]"
   ]
  },
  {
   "cell_type": "code",
   "execution_count": null,
   "id": "de11646b-b069-42c3-8cd5-35bcffe7809a",
   "metadata": {},
   "outputs": [],
   "source": [
    "df_returns.head()"
   ]
  },
  {
   "cell_type": "code",
   "execution_count": null,
   "id": "227a075e-9c8a-459c-9b37-8092069a07d8",
   "metadata": {},
   "outputs": [],
   "source": [
    "d1 = final_df[(final_df['Year'] == '2018') & (final_df['CVaR'] > 400)]\n",
    "x = d1['index'].unique()  # Get unique stock identifiers\n",
    "\n",
    "d2 = final_df[(final_df['Year'] == '2023') & (final_df['index'].isin(x))]\n",
    "\n",
    "d3 = final_df[(final_df['Year'] == '2018') & (final_df['LPM3'] > 400)]\n",
    "y = d3['index'].unique()\n",
    "\n",
    "d4 = final_df[(final_df['Year'] == '2023') & (final_df['index'].isin(y))]\n"
   ]
  },
  {
   "cell_type": "code",
   "execution_count": null,
   "id": "aab50fb0-088d-47d7-b11f-6c986b6b7ee5",
   "metadata": {},
   "outputs": [],
   "source": [
    "import matplotlib.pyplot as plt\n",
    "from scipy.stats import spearmanr\n",
    "\n",
    "# Identify high-risk stocks in 2018\n",
    "high_cvar_2018 = final_df[(final_df['Year'] == '2018') & (final_df['CVaR'] > 400)]['index'].unique()\n",
    "high_lpm3_2018 = final_df[(final_df['Year'] == '2018') & (final_df['LPM3'] > 400)]['index'].unique()\n",
    "\n",
    "# Get all 2023 data\n",
    "cvar_2023 = final_df[final_df['Year'] == '2023']\n",
    "lpm3_2023 = final_df[final_df['Year'] == '2023']\n",
    "\n",
    "# Split into highlighted and non-highlighted sets\n",
    "highlight_cvar = cvar_2023[cvar_2023['index'].isin(high_cvar_2018)]\n",
    "other_cvar = cvar_2023[~cvar_2023['index'].isin(high_cvar_2018)]\n",
    "\n",
    "highlight_lpm3 = lpm3_2023[lpm3_2023['index'].isin(high_lpm3_2018)]\n",
    "other_lpm3 = lpm3_2023[~lpm3_2023['index'].isin(high_lpm3_2018)]\n",
    "\n",
    "# Correlation using only highlighted stocks\n",
    "var_corr, _ = spearmanr(highlight_cvar['CVaR'], highlight_cvar['CVaR'])  # Dummy to keep label\n",
    "lpm3_corr, _ = spearmanr(highlight_lpm3['LPM3'], highlight_lpm3['LPM3'])\n",
    "\n",
    "# Plot\n",
    "fig, ax = plt.subplots(1, 2, figsize=(14, 6))\n",
    "\n",
    "# CVaR plot\n",
    "ax[0].scatter(other_cvar['CVaR'], other_cvar['CVaR'], color='lightgray', s=15, label='Other Stocks')\n",
    "ax[0].scatter(highlight_cvar['CVaR'], highlight_cvar['CVaR'], color='green', s=30, label='High CVaR in 2018')\n",
    "\n",
    "ax[0].set_xlabel(\"CVaR (2023)\")\n",
    "ax[0].set_ylabel(\"CVaR (2023)\")\n",
    "ax[0].set_title(\"CVaR Highlight: High-Risk in 2018\")\n",
    "ax[0].axhline(y=400, color='blue', linestyle='--', linewidth=1)\n",
    "ax[0].axvline(x=400, color='blue', linestyle='--', linewidth=1)\n",
    "ax[0].grid(True, alpha=0.5)\n",
    "ax[0].legend()\n",
    "\n",
    "# LPM3 plot\n",
    "ax[1].scatter(other_lpm3['LPM3'], other_lpm3['LPM3'], color='lightgray', s=15, label='Other Stocks')\n",
    "ax[1].scatter(highlight_lpm3['LPM3'], highlight_lpm3['LPM3'], color='red', s=30, label='High LPM3 in 2018')\n",
    "\n",
    "ax[1].set_xlabel(\"LPM3 (2023)\")\n",
    "ax[1].set_ylabel(\"LPM3 (2023)\")\n",
    "ax[1].set_title(\"LPM3 Highlight: High-Risk in 2018\")\n",
    "ax[1].axhline(y=400, color='blue', linestyle='--', linewidth=1)\n",
    "ax[1].axvline(x=400, color='blue', linestyle='--', linewidth=1)\n",
    "ax[1].grid(True, alpha=0.5)\n",
    "ax[1].legend()\n",
    "\n",
    "plt.tight_layout()\n",
    "plt.show()\n"
   ]
  }
 ],
 "metadata": {
  "kernelspec": {
   "display_name": "Python 3 (ipykernel)",
   "language": "python",
   "name": "python3"
  },
  "language_info": {
   "codemirror_mode": {
    "name": "ipython",
    "version": 3
   },
   "file_extension": ".py",
   "mimetype": "text/x-python",
   "name": "python",
   "nbconvert_exporter": "python",
   "pygments_lexer": "ipython3",
   "version": "3.11.7"
  }
 },
 "nbformat": 4,
 "nbformat_minor": 5
}
